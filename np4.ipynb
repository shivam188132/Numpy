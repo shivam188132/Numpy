{
 "cells": [
  {
   "cell_type": "markdown",
   "id": "ee4ef939-85eb-4121-ba82-a9f3f4a5766c",
   "metadata": {},
   "source": [
    "# data types in numpy arrays\n"
   ]
  },
  {
   "cell_type": "code",
   "execution_count": 2,
   "id": "2b947190-b660-4632-b00d-73d05beb7aef",
   "metadata": {},
   "outputs": [
    {
     "name": "stdout",
     "output_type": "stream",
     "text": [
      "Data type: int32\n"
     ]
    }
   ],
   "source": [
    "import numpy as np\n",
    "\n",
    "var = np.array([1,2,3,4,5])\n",
    "print(\"Data type:\", var.dtype)"
   ]
  },
  {
   "cell_type": "code",
   "execution_count": 9,
   "id": "f028e3b9-4ad4-455e-abdd-49900f2abce2",
   "metadata": {},
   "outputs": [
    {
     "name": "stdout",
     "output_type": "stream",
     "text": [
      "Data type:  float64\n"
     ]
    }
   ],
   "source": [
    "var2 = np.array([1.0, 1.2, 1.3 ])\n",
    "print(\"Data type: \" , var2.dtype )"
   ]
  },
  {
   "cell_type": "code",
   "execution_count": 10,
   "id": "574be66a-b935-4e8e-b41f-34b4195ccd6e",
   "metadata": {},
   "outputs": [
    {
     "name": "stdout",
     "output_type": "stream",
     "text": [
      "Data type : <U1\n"
     ]
    }
   ],
   "source": [
    "var3 = np.array([\"a\", \"b\", \"c\"])\n",
    "print(\"Data type :\", var3.dtype )"
   ]
  },
  {
   "cell_type": "code",
   "execution_count": 14,
   "id": "349ad6f2-fb05-43db-9321-21f9a366f450",
   "metadata": {},
   "outputs": [
    {
     "name": "stdout",
     "output_type": "stream",
     "text": [
      "Data type : <U32\n"
     ]
    }
   ],
   "source": [
    "var3 = np.array([\"a\", \"b\", \"c\",1,2,3,2.2])\n",
    "print(\"Data type :\", var3.dtype )"
   ]
  },
  {
   "cell_type": "code",
   "execution_count": null,
   "id": "c855790a-cf3f-4d7b-9128-af975acd18e7",
   "metadata": {},
   "outputs": [],
   "source": [
    "# changing one data type to another"
   ]
  },
  {
   "cell_type": "code",
   "execution_count": 15,
   "id": "6e0224ae-92ba-4478-8987-69e8a06b29ca",
   "metadata": {},
   "outputs": [
    {
     "name": "stdout",
     "output_type": "stream",
     "text": [
      "Data type: int32\n"
     ]
    }
   ],
   "source": [
    "var = np.array([1,2,3,4,5])\n",
    "print(\"Data type:\", var.dtype)"
   ]
  },
  {
   "cell_type": "code",
   "execution_count": 16,
   "id": "d62a62c2-7033-4da2-937e-179b81eaef68",
   "metadata": {},
   "outputs": [
    {
     "name": "stdout",
     "output_type": "stream",
     "text": [
      "Data type: int8\n"
     ]
    }
   ],
   "source": [
    "var = np.array([1,2,3,4,5],dtype= np.int8)\n",
    "print(\"Data type:\", var.dtype)"
   ]
  },
  {
   "cell_type": "code",
   "execution_count": null,
   "id": "24b9cc7c-f921-470e-a69a-518c29ce9e78",
   "metadata": {},
   "outputs": [],
   "source": [
    "# converting int to float"
   ]
  },
  {
   "cell_type": "code",
   "execution_count": 3,
   "id": "18880f1e-fad3-4306-9acf-7ababf22dc7e",
   "metadata": {},
   "outputs": [
    {
     "name": "stdout",
     "output_type": "stream",
     "text": [
      "Data type: float32\n"
     ]
    }
   ],
   "source": [
    "x1 = np.array([1,2,3,4,5],dtype= \"f\")\n",
    "print(\"Data type:\", x1.dtype)"
   ]
  },
  {
   "cell_type": "code",
   "execution_count": 7,
   "id": "63c5f954-685c-4dfb-a91c-1754358119ad",
   "metadata": {},
   "outputs": [
    {
     "name": "stdout",
     "output_type": "stream",
     "text": [
      "x2 Data Type:  int32\n",
      "new Data Type:  float32\n",
      "new _one Data Type:  int32\n",
      "[1 2 3 4 5]\n",
      "[1. 2. 3. 4. 5.]\n",
      "[1 2 3 4 5]\n"
     ]
    }
   ],
   "source": [
    "x2 = np.array([1,2,3,4,5])\n",
    "new = np.float32(x2)\n",
    "new_one = np.int_(new)\n",
    "print(\"x2 Data Type: \", x2.dtype)\n",
    "print(\"new Data Type: \", new.dtype )\n",
    "print(\"new _one Data Type: \", new_one.dtype )\n",
    "print(x2)\n",
    "print(new)\n",
    "print(new_one)"
   ]
  },
  {
   "cell_type": "code",
   "execution_count": 8,
   "id": "50a297dd-9df0-4bb2-a3a9-267523b4fe34",
   "metadata": {},
   "outputs": [],
   "source": [
    "# astype function"
   ]
  },
  {
   "cell_type": "code",
   "execution_count": 9,
   "id": "f3a338a5-2d67-474c-80d6-8d4cbe1994dc",
   "metadata": {},
   "outputs": [
    {
     "name": "stdout",
     "output_type": "stream",
     "text": [
      "[1 2 3 4]\n",
      "[1. 2. 3. 4.]\n"
     ]
    }
   ],
   "source": [
    "x3 = np.array([1,2,3,4])\n",
    "new_i = x3.astype(float)\n",
    "print(x3)\n",
    "print(new_i)"
   ]
  },
  {
   "cell_type": "code",
   "execution_count": null,
   "id": "4a459f6f-984d-4f0c-bc80-b2de261ed4cf",
   "metadata": {},
   "outputs": [],
   "source": []
  }
 ],
 "metadata": {
  "kernelspec": {
   "display_name": "Python 3 (ipykernel)",
   "language": "python",
   "name": "python3"
  },
  "language_info": {
   "codemirror_mode": {
    "name": "ipython",
    "version": 3
   },
   "file_extension": ".py",
   "mimetype": "text/x-python",
   "name": "python",
   "nbconvert_exporter": "python",
   "pygments_lexer": "ipython3",
   "version": "3.11.1"
  }
 },
 "nbformat": 4,
 "nbformat_minor": 5
}
