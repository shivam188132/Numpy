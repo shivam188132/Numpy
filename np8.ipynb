{
 "cells": [
  {
   "cell_type": "markdown",
   "id": "3f6422c2-4d92-4ec2-9f36-7fe1ba1b34e8",
   "metadata": {},
   "source": [
    "# Iterating Numpy Arrays"
   ]
  },
  {
   "cell_type": "code",
   "execution_count": 2,
   "id": "00464202-9228-4caf-9e32-44cb3f55c19e",
   "metadata": {},
   "outputs": [],
   "source": [
    "import numpy as np"
   ]
  },
  {
   "cell_type": "code",
   "execution_count": 4,
   "id": "afe0ab38-e2f1-44ec-b1cf-fda1f5230593",
   "metadata": {},
   "outputs": [
    {
     "name": "stdout",
     "output_type": "stream",
     "text": [
      "[9 8 7 6 5 4]\n",
      "\n",
      "9\n",
      "8\n",
      "7\n",
      "6\n",
      "5\n",
      "4\n"
     ]
    }
   ],
   "source": [
    "var = np.array([9,8,7,6,5,4])\n",
    "print(var)\n",
    "print()\n",
    "for i in var:\n",
    "    print(i)"
   ]
  },
  {
   "cell_type": "code",
   "execution_count": 7,
   "id": "73930dab-b5d9-4868-a028-05cfd3472d1d",
   "metadata": {},
   "outputs": [
    {
     "name": "stdout",
     "output_type": "stream",
     "text": [
      "[[1 2 3 4]\n",
      " [5 6 7 8]]\n",
      "\n",
      "[1 2 3 4]\n",
      "[5 6 7 8]\n"
     ]
    }
   ],
   "source": [
    "var_2d = np.array([[1,2,3,4],[5,6,7,8]])\n",
    "print(var_2d)\n",
    "print()\n",
    "\n",
    "for j in var_2d:\n",
    "    print(j)"
   ]
  },
  {
   "cell_type": "code",
   "execution_count": 8,
   "id": "a59b2a2d-1b6c-4da2-ad85-8f36ea9eec54",
   "metadata": {},
   "outputs": [],
   "source": [
    "# if we want to get hold of values like 1,2,3.. then we have to apply iteration on iteration"
   ]
  },
  {
   "cell_type": "code",
   "execution_count": 14,
   "id": "a4fbbe72-935f-4713-aba0-f332d34483fc",
   "metadata": {},
   "outputs": [
    {
     "name": "stdout",
     "output_type": "stream",
     "text": [
      "1\n",
      "2\n",
      "3\n",
      "4\n",
      "5\n",
      "6\n",
      "7\n",
      "8\n"
     ]
    }
   ],
   "source": [
    "for k in var_2d:\n",
    "    for l in k:\n",
    "        print(l)\n",
    "        "
   ]
  },
  {
   "cell_type": "code",
   "execution_count": 15,
   "id": "0e31c043-55ac-442c-b69d-b9df66d38f7d",
   "metadata": {},
   "outputs": [],
   "source": [
    "# for 3d array"
   ]
  },
  {
   "cell_type": "code",
   "execution_count": 16,
   "id": "c9cf152f-965c-40b2-a3a3-10cb65a70719",
   "metadata": {},
   "outputs": [
    {
     "name": "stdout",
     "output_type": "stream",
     "text": [
      "[[[ 1  2  3  4  5]\n",
      "  [ 9  8  7  6  5]\n",
      "  [11 12 13 14 15]]]\n",
      "\n",
      "1\n",
      "2\n",
      "3\n",
      "4\n",
      "5\n",
      "9\n",
      "8\n",
      "7\n",
      "6\n",
      "5\n",
      "11\n",
      "12\n",
      "13\n",
      "14\n",
      "15\n"
     ]
    }
   ],
   "source": [
    "var_3d = np.array([[[1,2,3,4,5],[9,8,7,6,5],[11,12,13,14,15]]])\n",
    "print(var_3d)\n",
    "print()\n",
    "\n",
    "for i in var_3d:\n",
    "    for j in i:\n",
    "        for k in j:\n",
    "            print(k)"
   ]
  },
  {
   "cell_type": "code",
   "execution_count": 17,
   "id": "d7b4b6ad-26d0-466c-a988-14c28cf88e09",
   "metadata": {},
   "outputs": [],
   "source": [
    "# insted of applying for loop multiple times we can use nditer()"
   ]
  },
  {
   "cell_type": "code",
   "execution_count": 18,
   "id": "0e555b6c-599f-4e6c-b9c2-c1b7a805401a",
   "metadata": {},
   "outputs": [
    {
     "name": "stdout",
     "output_type": "stream",
     "text": [
      "1\n",
      "2\n",
      "3\n",
      "4\n",
      "5\n",
      "9\n",
      "8\n",
      "7\n",
      "6\n",
      "5\n",
      "11\n",
      "12\n",
      "13\n",
      "14\n",
      "15\n"
     ]
    }
   ],
   "source": [
    "for i in np.nditer(var_3d):\n",
    "    print(i)"
   ]
  },
  {
   "cell_type": "code",
   "execution_count": 19,
   "id": "7cb2bc24-ba0e-45e4-9bb3-43b30824092f",
   "metadata": {},
   "outputs": [],
   "source": [
    "# what if we want to change the type of data to number to string"
   ]
  },
  {
   "cell_type": "code",
   "execution_count": 27,
   "id": "c03673cc-6c6f-436e-8262-1bb008f05699",
   "metadata": {},
   "outputs": [
    {
     "name": "stdout",
     "output_type": "stream",
     "text": [
      "b'1'\n",
      "b'2'\n",
      "b'3'\n",
      "b'4'\n",
      "b'5'\n",
      "b'9'\n",
      "b'8'\n",
      "b'7'\n",
      "b'6'\n",
      "b'5'\n",
      "b'11'\n",
      "b'12'\n",
      "b'13'\n",
      "b'14'\n",
      "b'15'\n"
     ]
    }
   ],
   "source": [
    "for i in np.nditer(var_3d,flags=[\"buffered\"],op_dtypes=[\"S\"]):\n",
    "    print(i)"
   ]
  },
  {
   "cell_type": "code",
   "execution_count": 29,
   "id": "41f57b17-de2c-4f9c-9c90-15aff96d6ec3",
   "metadata": {},
   "outputs": [],
   "source": [
    "# what if we want to print along with indexing this is needed in case of large data\n",
    "# ndemumerate function is used"
   ]
  },
  {
   "cell_type": "code",
   "execution_count": 30,
   "id": "3717fa5a-09aa-4270-9ffe-f4278887fa35",
   "metadata": {},
   "outputs": [
    {
     "name": "stdout",
     "output_type": "stream",
     "text": [
      "(0, 0, 0) 1\n",
      "(0, 0, 1) 2\n",
      "(0, 0, 2) 3\n",
      "(0, 0, 3) 4\n",
      "(0, 0, 4) 5\n",
      "(0, 1, 0) 9\n",
      "(0, 1, 1) 8\n",
      "(0, 1, 2) 7\n",
      "(0, 1, 3) 6\n",
      "(0, 1, 4) 5\n",
      "(0, 2, 0) 11\n",
      "(0, 2, 1) 12\n",
      "(0, 2, 2) 13\n",
      "(0, 2, 3) 14\n",
      "(0, 2, 4) 15\n"
     ]
    }
   ],
   "source": [
    "for i,d in np.ndenumerate(var_3d):\n",
    "    print(i,d)"
   ]
  },
  {
   "cell_type": "markdown",
   "id": "e595d40f-9b5d-43c8-9cf2-bff1df3963a7",
   "metadata": {},
   "source": [
    "# Copy vs View in Numpy arrays"
   ]
  },
  {
   "cell_type": "code",
   "execution_count": 4,
   "id": "d9ab9c55-d5ba-48e2-bb3d-c310e56b0f4a",
   "metadata": {},
   "outputs": [
    {
     "name": "stdout",
     "output_type": "stream",
     "text": [
      "var:  [1 2 3 4]\n",
      "copy:  [1 2 3 4]\n"
     ]
    }
   ],
   "source": [
    "var_copy = np.array([1,2,3,4])\n",
    "co = var_copy.copy()\n",
    "\n",
    "print(\"var: \", var_copy)\n",
    "print(\"copy: \", co)"
   ]
  },
  {
   "cell_type": "code",
   "execution_count": 38,
   "id": "da738354-b313-45e1-9bdc-80dbe3a01696",
   "metadata": {},
   "outputs": [
    {
     "name": "stdout",
     "output_type": "stream",
     "text": [
      "vi:  [9 8 7 6]\n"
     ]
    }
   ],
   "source": [
    "var_view = np.array([9,8,7,6])\n",
    "vi = var_view.view()\n",
    "print(\"vi: \", vi)"
   ]
  },
  {
   "cell_type": "code",
   "execution_count": 35,
   "id": "31ea2c69-ca4d-4cb5-84f5-9a5627b263d2",
   "metadata": {},
   "outputs": [],
   "source": [
    "# what if we do some changes alongwith our data let's do it"
   ]
  },
  {
   "cell_type": "code",
   "execution_count": null,
   "id": "13db1086-3348-4e00-9ac9-2f66536a6e89",
   "metadata": {},
   "outputs": [],
   "source": [
    "# experimenting copy"
   ]
  },
  {
   "cell_type": "code",
   "execution_count": 5,
   "id": "f304ab09-dacd-42d9-9660-99bcc90c3a89",
   "metadata": {},
   "outputs": [
    {
     "name": "stdout",
     "output_type": "stream",
     "text": [
      "var:  [ 1  2 40  4]\n",
      "copy:  [1 2 3 4]\n"
     ]
    }
   ],
   "source": [
    "var_copy[2]=40\n",
    "\n",
    "print(\"var: \", var_copy)\n",
    "print(\"copy: \", co)"
   ]
  },
  {
   "cell_type": "code",
   "execution_count": 40,
   "id": "8d20731e-f3c2-487c-9783-693ebe88de62",
   "metadata": {},
   "outputs": [],
   "source": [
    "# see the data inside the copy didn't change"
   ]
  },
  {
   "cell_type": "code",
   "execution_count": 41,
   "id": "c6f775ee-a148-40c7-a5e2-8a84c079fe6a",
   "metadata": {},
   "outputs": [],
   "source": [
    "# experimenting view"
   ]
  },
  {
   "cell_type": "code",
   "execution_count": 43,
   "id": "a65b1263-08fc-428e-a1fb-3925070d3203",
   "metadata": {},
   "outputs": [
    {
     "name": "stdout",
     "output_type": "stream",
     "text": [
      "var_view:  [ 9  8 30  6]\n",
      "vi:  [ 9  8 30  6]\n"
     ]
    }
   ],
   "source": [
    "var_view[2] = 30\n",
    "print(\"var_view: \", var_view)\n",
    "print(\"vi: \", vi)"
   ]
  },
  {
   "cell_type": "code",
   "execution_count": 44,
   "id": "974a579d-198e-4b29-af5c-679b68fdbe7d",
   "metadata": {},
   "outputs": [],
   "source": [
    "# see the difference between copy and view"
   ]
  },
  {
   "cell_type": "markdown",
   "id": "988491c2-734b-4029-aa63-fd6c60c50cd9",
   "metadata": {},
   "source": [
    "# Join & Split Functions in Numpy Arrays"
   ]
  },
  {
   "cell_type": "markdown",
   "id": "c44f2507-2178-41e3-b315-db156d64a4da",
   "metadata": {},
   "source": [
    "# Join Array"
   ]
  },
  {
   "cell_type": "code",
   "execution_count": 48,
   "id": "05afde40-2c30-4c97-91b4-63d1110cee9b",
   "metadata": {},
   "outputs": [
    {
     "name": "stdout",
     "output_type": "stream",
     "text": [
      "[1 2 3 4 6 7 8 9]\n"
     ]
    }
   ],
   "source": [
    "join_var1 = np.array([1,2,3,4])\n",
    "join_var2 = np.array([6,7,8,9])\n",
    "joined_array = np.concatenate((join_var1, join_var2))\n",
    "print(joined_array)"
   ]
  },
  {
   "cell_type": "code",
   "execution_count": 49,
   "id": "2826ae07-9f1a-4321-8344-8597f545b2a1",
   "metadata": {},
   "outputs": [],
   "source": [
    "# for 2d arrays "
   ]
  },
  {
   "cell_type": "code",
   "execution_count": 52,
   "id": "4d5484fe-eb75-48dc-8e12-e0fe68095410",
   "metadata": {},
   "outputs": [],
   "source": [
    "# we need to need to dicide along which axis we want to join ie. 0,1 "
   ]
  },
  {
   "cell_type": "code",
   "execution_count": 53,
   "id": "fa0eba17-5a21-45a8-9c46-1aa08a9e1828",
   "metadata": {},
   "outputs": [
    {
     "name": "stdout",
     "output_type": "stream",
     "text": [
      "[[1 2]\n",
      " [3 4]]\n",
      "\n",
      "[[9 8]\n",
      " [7 6]]\n",
      "\n",
      "[[1 2 9 8]\n",
      " [3 4 7 6]]\n"
     ]
    }
   ],
   "source": [
    "vr1 = np.array([[1,2],[3,4]])\n",
    "var2 = np.array([[9,8],[7,6]])\n",
    "ar_new = np.concatenate((vr1,var2),axis=1)\n",
    "print(vr1)\n",
    "print()\n",
    "print(var2)\n",
    "print()\n",
    "\n",
    "print(ar_new)"
   ]
  },
  {
   "cell_type": "code",
   "execution_count": 55,
   "id": "dd331b63-00af-4da3-9895-976069c6b444",
   "metadata": {},
   "outputs": [
    {
     "name": "stdout",
     "output_type": "stream",
     "text": [
      "[[1 2]\n",
      " [3 4]\n",
      " [9 8]\n",
      " [7 6]]\n"
     ]
    }
   ],
   "source": [
    "ar_new = np.concatenate((vr1,var2),axis=0)\n",
    "print(ar_new)"
   ]
  },
  {
   "cell_type": "markdown",
   "id": "fec3fd41-b907-4d98-bdd0-f909808d35f4",
   "metadata": {},
   "source": [
    "# using stack functions"
   ]
  },
  {
   "cell_type": "code",
   "execution_count": 5,
   "id": "25022959-a3df-4a72-b8e8-436dd8e54f27",
   "metadata": {},
   "outputs": [
    {
     "name": "stdout",
     "output_type": "stream",
     "text": [
      "[[1 2 3 4]\n",
      " [6 7 8 9]]\n"
     ]
    }
   ],
   "source": [
    "import numpy as np\n",
    "var1 = np.array([1,2,3,4])\n",
    "var2 = np.array([6,7,8,9])\n",
    "\n",
    "a_new = np.stack((var1, var2), axis=0)\n",
    "print(a_new)"
   ]
  },
  {
   "cell_type": "code",
   "execution_count": 7,
   "id": "b3c27f47-90eb-4ee8-bc57-3f9214819e0b",
   "metadata": {},
   "outputs": [
    {
     "name": "stdout",
     "output_type": "stream",
     "text": [
      "[1 2 3 4 6 7 8 9]\n",
      "\n",
      "[[1 2 3 4]\n",
      " [6 7 8 9]]\n",
      "\n",
      "[[[1 6]\n",
      "  [2 7]\n",
      "  [3 8]\n",
      "  [4 9]]]\n"
     ]
    }
   ],
   "source": [
    "a_new1 = np.hstack((var1,var2)) #row\n",
    "print(a_new1)\n",
    "print()\n",
    "\n",
    "a_new2 = np.vstack((var1,var2)) #column\n",
    "print(a_new2)\n",
    "print()\n",
    "a_new3 = np.dstack((var1, var2)) #height\n",
    "print(a_new3)"
   ]
  },
  {
   "cell_type": "markdown",
   "id": "8ee95dfc-e772-4305-95dd-344bc46a2afb",
   "metadata": {},
   "source": [
    "# split array"
   ]
  },
  {
   "cell_type": "code",
   "execution_count": 12,
   "id": "21b722cd-c8d6-4495-b571-d6bf7e60ec4d",
   "metadata": {},
   "outputs": [
    {
     "name": "stdout",
     "output_type": "stream",
     "text": [
      "[1 2 3 4 5 6 7 8 9]\n",
      "\n",
      "[array([1, 2, 3]), array([4, 5, 6]), array([7, 8, 9])]\n",
      "\n",
      "<class 'list'>\n",
      "\n",
      "[1 2 3]\n"
     ]
    }
   ],
   "source": [
    "var = np.array([1,2,3,4,5,6,7,8,9])\n",
    "print(var)\n",
    "\n",
    "ar = np.split(var,3)\n",
    "print()\n",
    "print(ar)\n",
    "print()\n",
    "print(type(ar))\n",
    "print()\n",
    "print(ar[0])"
   ]
  },
  {
   "cell_type": "code",
   "execution_count": 13,
   "id": "6018f314-a513-43a5-9b40-c89d7c5a8792",
   "metadata": {},
   "outputs": [],
   "source": [
    "# 2d array"
   ]
  },
  {
   "cell_type": "code",
   "execution_count": 21,
   "id": "98b41e5a-b201-44aa-a74f-b1500faffcd4",
   "metadata": {},
   "outputs": [
    {
     "name": "stdout",
     "output_type": "stream",
     "text": [
      "[[1 2]\n",
      " [3 4]\n",
      " [5 6]]\n",
      "\n",
      "[array([[1, 2]]), array([[3, 4]]), array([[5, 6]])]\n"
     ]
    }
   ],
   "source": [
    "var_2d = np.array([[1,2],[3,4],[5,6]])\n",
    "print(var_2d)\n",
    "print()\n",
    "\n",
    "ar_2d = np.array_split(var_2d,3)\n",
    "print(ar_2d)"
   ]
  },
  {
   "cell_type": "code",
   "execution_count": 16,
   "id": "1fa2fedb-88dd-4079-8ac5-1e34193b7526",
   "metadata": {},
   "outputs": [],
   "source": [
    "# how to split along axis"
   ]
  },
  {
   "cell_type": "code",
   "execution_count": 19,
   "id": "f67f8b3e-fb06-4a84-b5d3-7b645b71bfa6",
   "metadata": {},
   "outputs": [
    {
     "name": "stdout",
     "output_type": "stream",
     "text": [
      "[array([[1],\n",
      "       [3],\n",
      "       [5]]), array([[2],\n",
      "       [4],\n",
      "       [6]]), array([], shape=(3, 0), dtype=int32)]\n"
     ]
    }
   ],
   "source": [
    "ar_2d = np.array_split(var_2d,3, axis=1)\n",
    "print(ar_2d)"
   ]
  },
  {
   "cell_type": "code",
   "execution_count": null,
   "id": "88b76eff-ee24-4a3a-b6fa-33c99ba91491",
   "metadata": {},
   "outputs": [],
   "source": []
  }
 ],
 "metadata": {
  "kernelspec": {
   "display_name": "Python 3 (ipykernel)",
   "language": "python",
   "name": "python3"
  },
  "language_info": {
   "codemirror_mode": {
    "name": "ipython",
    "version": 3
   },
   "file_extension": ".py",
   "mimetype": "text/x-python",
   "name": "python",
   "nbconvert_exporter": "python",
   "pygments_lexer": "ipython3",
   "version": "3.11.1"
  }
 },
 "nbformat": 4,
 "nbformat_minor": 5
}
