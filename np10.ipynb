{
 "cells": [
  {
   "cell_type": "markdown",
   "id": "59a04fd1-b6fb-4c51-879b-6958a94ea364",
   "metadata": {},
   "source": [
    "# Insert and Delete function"
   ]
  },
  {
   "cell_type": "code",
   "execution_count": 2,
   "id": "9b5fbe7c-3e16-4f3a-8de2-2d1387bd582b",
   "metadata": {},
   "outputs": [
    {
     "name": "stdout",
     "output_type": "stream",
     "text": [
      "[1 2 3 4]\n",
      "[ 1  2 40  3  4]\n"
     ]
    }
   ],
   "source": [
    "import numpy as np\n",
    "\n",
    "var = np.array([1,2,3,4])\n",
    "print(var)\n",
    "# syntax --> np.insert(var, index, value)\n",
    "p = np.insert(var,2, 40)\n",
    "print(p)"
   ]
  },
  {
   "cell_type": "code",
   "execution_count": 3,
   "id": "d6602567-4c81-4af0-abb1-ed1a30e9303d",
   "metadata": {},
   "outputs": [],
   "source": [
    "# for inserting multiple data at once"
   ]
  },
  {
   "cell_type": "code",
   "execution_count": 8,
   "id": "a7de279b-8830-4fef-9277-81e3130d09a2",
   "metadata": {},
   "outputs": [
    {
     "name": "stdout",
     "output_type": "stream",
     "text": [
      "[ 1  2 40  3  4 40]\n"
     ]
    }
   ],
   "source": [
    "multiple_insert = np.insert(var,(2,4), 40)\n",
    "print(multiple_insert)"
   ]
  },
  {
   "cell_type": "code",
   "execution_count": 9,
   "id": "15f187cf-7873-481f-a2ac-9cd2c6b70443",
   "metadata": {},
   "outputs": [],
   "source": [
    "# if we are inserting decimal value it will get converted into whole number"
   ]
  },
  {
   "cell_type": "code",
   "execution_count": 11,
   "id": "1def644f-5ef9-4ce4-851e-4a6396884935",
   "metadata": {},
   "outputs": [
    {
     "name": "stdout",
     "output_type": "stream",
     "text": [
      "[[1 2 3]\n",
      " [1 2 3]]\n",
      "[1 2 6 3 1 6 2 3]\n"
     ]
    }
   ],
   "source": [
    "var_2d = np.array([[1,2,3],[1,2,3]])\n",
    "print(var_2d)\n",
    "var_2d = np.insert( var_2d, (2,4), 6.5)\n",
    "print(var_2d)"
   ]
  },
  {
   "cell_type": "code",
   "execution_count": 12,
   "id": "460dfdbc-af5b-48e8-bd2a-2a50c668b687",
   "metadata": {},
   "outputs": [],
   "source": [
    "# look from the data noted we need to give axis value to"
   ]
  },
  {
   "cell_type": "code",
   "execution_count": 19,
   "id": "324b5efc-a4f0-4d18-a62c-8fd569dac432",
   "metadata": {},
   "outputs": [
    {
     "name": "stdout",
     "output_type": "stream",
     "text": [
      "[[1 2 3]\n",
      " [1 2 3]\n",
      " [6 6 6]]\n"
     ]
    }
   ],
   "source": [
    "var_2d = np.array([[1,2,3],[1,2,3]])\n",
    "var_2d = np.insert( var_2d, 2, 6.5,axis= 0)\n",
    "print(var_2d)"
   ]
  },
  {
   "cell_type": "code",
   "execution_count": 20,
   "id": "a677e31c-7d19-4cba-acc1-145bc89c6b78",
   "metadata": {},
   "outputs": [],
   "source": [
    "# axis =1"
   ]
  },
  {
   "cell_type": "code",
   "execution_count": 26,
   "id": "53ef3c40-afe4-4efa-bc7c-8db533eba596",
   "metadata": {},
   "outputs": [
    {
     "name": "stdout",
     "output_type": "stream",
     "text": [
      "[[1 2 3]\n",
      " [1 2 3]]\n",
      "\n",
      "[[ 1  2 22  3]\n",
      " [ 1  2 22  3]]\n"
     ]
    }
   ],
   "source": [
    "var_2d = np.array([[1,2,3],[1,2,3]])\n",
    "print(var_2d)\n",
    "print()\n",
    "var_2d = np.insert( var_2d, 2,22,axis= 1)\n",
    "# work according to column\n",
    "print(var_2d)"
   ]
  },
  {
   "cell_type": "markdown",
   "id": "d0266326-9621-4054-a033-3f2a189bed29",
   "metadata": {},
   "source": [
    "# .append"
   ]
  },
  {
   "cell_type": "code",
   "execution_count": 29,
   "id": "8485e041-2e7b-4623-9ac3-5d7c80101bc3",
   "metadata": {},
   "outputs": [
    {
     "name": "stdout",
     "output_type": "stream",
     "text": [
      "[[1 2 3]\n",
      " [1 2 3]]\n",
      "\n",
      "[[ 1  2  3]\n",
      " [ 1  2  3]\n",
      " [45 44 23]]\n"
     ]
    }
   ],
   "source": [
    "var1 = np.array([[1,2,3],[1,2,3]])\n",
    "print(var1)\n",
    "\n",
    "print()\n",
    "var1 = np.append(var1,[[45,44,23]], axis=0)\n",
    "print(var1)"
   ]
  },
  {
   "cell_type": "markdown",
   "id": "3356c0c3-0aae-4c23-a701-38b61c8f3827",
   "metadata": {},
   "source": [
    "# Delete"
   ]
  },
  {
   "cell_type": "code",
   "execution_count": 31,
   "id": "50417cc2-0715-41ae-b9e8-3205b7e9121f",
   "metadata": {},
   "outputs": [
    {
     "name": "stdout",
     "output_type": "stream",
     "text": [
      "[1 2 3 4]\n",
      "[1 2 4]\n"
     ]
    }
   ],
   "source": [
    "var = np.array([1,2,3,4])\n",
    "print(var)\n",
    "# syntax --> np.insert(var, index)\n",
    "d = np.delete(var,2)\n",
    "print(d)"
   ]
  },
  {
   "cell_type": "markdown",
   "id": "50cd0ab0-94f3-437c-9a7c-a2db34701a73",
   "metadata": {},
   "source": [
    "# Numpy Matrix"
   ]
  },
  {
   "cell_type": "code",
   "execution_count": 34,
   "id": "ade6b171-a6b1-4345-bf17-329c553dcd7b",
   "metadata": {},
   "outputs": [
    {
     "name": "stdout",
     "output_type": "stream",
     "text": [
      "[[1 2 3]\n",
      " [1 2 3]]\n",
      "<class 'numpy.matrix'>\n",
      "\n",
      "[[1 2 3]\n",
      " [1 2 3]]\n",
      "<class 'numpy.ndarray'>\n"
     ]
    }
   ],
   "source": [
    "var_mx = np.matrix([[1,2,3],[1,2,3]])\n",
    "print(var_mx)\n",
    "print(type(var_mx))\n",
    "print()\n",
    "\n",
    "var_ax = np.array([[1,2,3],[1,2,3]])\n",
    "print(var_ax)\n",
    "print(type(var_ax))"
   ]
  },
  {
   "cell_type": "code",
   "execution_count": 36,
   "id": "9bdd0229-0b7b-41e3-8c17-431b30ea5bc7",
   "metadata": {},
   "outputs": [],
   "source": [
    "# addition property of matrix and array is same "
   ]
  },
  {
   "cell_type": "code",
   "execution_count": 37,
   "id": "fac8c8f6-6dc2-4a27-8b4d-2e9534782282",
   "metadata": {},
   "outputs": [],
   "source": [
    "# but not multiplication property"
   ]
  },
  {
   "cell_type": "markdown",
   "id": "017263c4-37ad-4d28-b0e8-0325f7c50005",
   "metadata": {},
   "source": [
    "# addition "
   ]
  },
  {
   "cell_type": "code",
   "execution_count": 39,
   "id": "8410221e-1bb5-43a5-99f4-662ded89b45f",
   "metadata": {},
   "outputs": [
    {
     "name": "stdout",
     "output_type": "stream",
     "text": [
      "[[1 2 3]\n",
      " [1 2 3]]\n",
      "[[1 2 3]\n",
      " [1 2 3]]\n",
      "\n",
      "[[2 4 6]\n",
      " [2 4 6]]\n"
     ]
    }
   ],
   "source": [
    "var_mx = np.matrix([[1,2,3],[1,2,3]])\n",
    "var_mx2 = np.matrix([[1,2,3],[1,2,3]])\n",
    "print(var_mx)\n",
    "print(var_mx2)\n",
    "print()\n",
    "print(var_mx + var_mx2)"
   ]
  },
  {
   "cell_type": "markdown",
   "id": "527323ac-d159-4b00-bcb5-7099611f190b",
   "metadata": {},
   "source": [
    "# subtraction"
   ]
  },
  {
   "cell_type": "code",
   "execution_count": 40,
   "id": "868c130b-df66-4c6c-8ce9-f218f355b56c",
   "metadata": {},
   "outputs": [
    {
     "name": "stdout",
     "output_type": "stream",
     "text": [
      "[[0 0 0]\n",
      " [0 0 0]]\n"
     ]
    }
   ],
   "source": [
    "print(var_mx - var_mx2)"
   ]
  },
  {
   "cell_type": "markdown",
   "id": "ba999787-7792-4963-b2a2-bf0e89e4973d",
   "metadata": {},
   "source": [
    "# multiplication"
   ]
  },
  {
   "cell_type": "code",
   "execution_count": 41,
   "id": "faf83ff5-7858-48c1-8302-01d9026a6eae",
   "metadata": {},
   "outputs": [
    {
     "ename": "ValueError",
     "evalue": "shapes (2,3) and (2,3) not aligned: 3 (dim 1) != 2 (dim 0)",
     "output_type": "error",
     "traceback": [
      "\u001b[1;31m---------------------------------------------------------------------------\u001b[0m",
      "\u001b[1;31mValueError\u001b[0m                                Traceback (most recent call last)",
      "Cell \u001b[1;32mIn[41], line 1\u001b[0m\n\u001b[1;32m----> 1\u001b[0m \u001b[38;5;28mprint\u001b[39m(\u001b[43mvar_mx\u001b[49m\u001b[43m \u001b[49m\u001b[38;5;241;43m*\u001b[39;49m\u001b[43m \u001b[49m\u001b[43mvar_mx2\u001b[49m)\n",
      "File \u001b[1;32m~\\AppData\\Roaming\\Python\\Python311\\site-packages\\numpy\\matrixlib\\defmatrix.py:219\u001b[0m, in \u001b[0;36mmatrix.__mul__\u001b[1;34m(self, other)\u001b[0m\n\u001b[0;32m    216\u001b[0m \u001b[38;5;28;01mdef\u001b[39;00m \u001b[38;5;21m__mul__\u001b[39m(\u001b[38;5;28mself\u001b[39m, other):\n\u001b[0;32m    217\u001b[0m     \u001b[38;5;28;01mif\u001b[39;00m \u001b[38;5;28misinstance\u001b[39m(other, (N\u001b[38;5;241m.\u001b[39mndarray, \u001b[38;5;28mlist\u001b[39m, \u001b[38;5;28mtuple\u001b[39m)) :\n\u001b[0;32m    218\u001b[0m         \u001b[38;5;66;03m# This promotes 1-D vectors to row vectors\u001b[39;00m\n\u001b[1;32m--> 219\u001b[0m         \u001b[38;5;28;01mreturn\u001b[39;00m \u001b[43mN\u001b[49m\u001b[38;5;241;43m.\u001b[39;49m\u001b[43mdot\u001b[49m\u001b[43m(\u001b[49m\u001b[38;5;28;43mself\u001b[39;49m\u001b[43m,\u001b[49m\u001b[43m \u001b[49m\u001b[43masmatrix\u001b[49m\u001b[43m(\u001b[49m\u001b[43mother\u001b[49m\u001b[43m)\u001b[49m\u001b[43m)\u001b[49m\n\u001b[0;32m    220\u001b[0m     \u001b[38;5;28;01mif\u001b[39;00m isscalar(other) \u001b[38;5;129;01mor\u001b[39;00m \u001b[38;5;129;01mnot\u001b[39;00m \u001b[38;5;28mhasattr\u001b[39m(other, \u001b[38;5;124m'\u001b[39m\u001b[38;5;124m__rmul__\u001b[39m\u001b[38;5;124m'\u001b[39m) :\n\u001b[0;32m    221\u001b[0m         \u001b[38;5;28;01mreturn\u001b[39;00m N\u001b[38;5;241m.\u001b[39mdot(\u001b[38;5;28mself\u001b[39m, other)\n",
      "\u001b[1;31mValueError\u001b[0m: shapes (2,3) and (2,3) not aligned: 3 (dim 1) != 2 (dim 0)"
     ]
    }
   ],
   "source": [
    "print(var_mx * var_mx2)"
   ]
  },
  {
   "cell_type": "code",
   "execution_count": 45,
   "id": "ad63166e-f33a-4e24-ab21-82dc207d2bc2",
   "metadata": {},
   "outputs": [
    {
     "name": "stdout",
     "output_type": "stream",
     "text": [
      "[[1 2]\n",
      " [1 2]]\n",
      "[[1 2]\n",
      " [1 2]]\n",
      "\n",
      "[[3 6]\n",
      " [3 6]]\n"
     ]
    }
   ],
   "source": [
    "var_mx = np.matrix([[1,2],[1,2]])\n",
    "var_mx2 = np.matrix([[1,2],[1,2]])\n",
    "print(var_mx)\n",
    "print(var_mx2)\n",
    "print()\n",
    "print(var_mx * var_mx2)"
   ]
  },
  {
   "cell_type": "code",
   "execution_count": 46,
   "id": "34689264-b86b-43a1-875f-7842253075dc",
   "metadata": {},
   "outputs": [],
   "source": [
    "# insted"
   ]
  },
  {
   "cell_type": "code",
   "execution_count": 50,
   "id": "ee74558b-7759-44d4-ab39-dde8b85d741e",
   "metadata": {},
   "outputs": [
    {
     "name": "stdout",
     "output_type": "stream",
     "text": [
      "Matrix 1:\n",
      "[[1 2 3]\n",
      " [1 2 3]]\n",
      "\n",
      "Matrix 2:\n",
      "[[1 1]\n",
      " [2 2]\n",
      " [3 3]]\n",
      "\n",
      "Result of Matrix Multiplication:\n",
      "[[14 14]\n",
      " [14 14]]\n"
     ]
    }
   ],
   "source": [
    "import numpy as np\n",
    "\n",
    "var_mx = np.matrix([[1, 2, 3], [1, 2, 3]])\n",
    "var_mx2 = np.matrix([[1, 2, 3], [1, 2, 3]])\n",
    "\n",
    "print(\"Matrix 1:\")\n",
    "print(var_mx)\n",
    "print()\n",
    "\n",
    "print(\"Matrix 2:\")\n",
    "print(var_mx2.T)  # Transpose Matrix 2\n",
    "print()\n",
    "\n",
    "# Matrix multiplication\n",
    "result = var_mx * var_mx2.T  # Use the transposed matrix\n",
    "\n",
    "print(\"Result of Matrix Multiplication:\")\n",
    "print(result)\n"
   ]
  },
  {
   "cell_type": "markdown",
   "id": "7b9c5ff5-6d03-46df-b1af-508f2bdfcd8b",
   "metadata": {},
   "source": [
    "# Mattix Functions"
   ]
  },
  {
   "cell_type": "code",
   "execution_count": 51,
   "id": "dd721ed6-d691-4b56-82d6-cd67ec0b19e9",
   "metadata": {},
   "outputs": [],
   "source": [
    "# transpose of matrix"
   ]
  },
  {
   "cell_type": "code",
   "execution_count": 52,
   "id": "583ee7a1-4883-49b3-bb08-9beb00bb8c7c",
   "metadata": {},
   "outputs": [
    {
     "name": "stdout",
     "output_type": "stream",
     "text": [
      "[[1 2 3]\n",
      " [4 5 6]]\n",
      "\n",
      "[[1 4]\n",
      " [2 5]\n",
      " [3 6]]\n",
      "\n",
      "[1 2 3 4]\n"
     ]
    }
   ],
   "source": [
    "var_mx = np.matrix([[1, 2, 3], [4, 5, 6]])\n",
    "print(var_mx)\n",
    "print()\n",
    "\n",
    "print(np.transpose(var_mx))\n",
    "print()\n",
    "print(var.T)"
   ]
  },
  {
   "cell_type": "markdown",
   "id": "7c574039-f622-4a89-9e72-4d26df3bda78",
   "metadata": {},
   "source": [
    "# Swapaxes"
   ]
  },
  {
   "cell_type": "code",
   "execution_count": 53,
   "id": "f1cd5917-f5a8-48be-8508-7ce80542e472",
   "metadata": {},
   "outputs": [
    {
     "name": "stdout",
     "output_type": "stream",
     "text": [
      "[[1 2]\n",
      " [3 4]]\n",
      "\n",
      "[[1 3]\n",
      " [2 4]]\n"
     ]
    }
   ],
   "source": [
    "var_mx3 = np.matrix([[1,2],[3,4]])\n",
    "print(var_mx3)\n",
    "print()\n",
    "print(np.swapaxes(var_mx3, 0,1))"
   ]
  },
  {
   "cell_type": "markdown",
   "id": "42e1b1b6-30d0-4c63-9a77-ac49f438cfaa",
   "metadata": {},
   "source": [
    "# inverse matrix"
   ]
  },
  {
   "cell_type": "code",
   "execution_count": 55,
   "id": "cc84503f-7c0f-46dd-923b-c3c1992ffd8c",
   "metadata": {},
   "outputs": [
    {
     "name": "stdout",
     "output_type": "stream",
     "text": [
      "[[1 2]\n",
      " [3 4]]\n",
      "\n",
      "[[-2.   1. ]\n",
      " [ 1.5 -0.5]]\n"
     ]
    }
   ],
   "source": [
    "var_mx3 = np.matrix([[1,2],[3,4]])\n",
    "print(var_mx3)\n",
    "print()\n",
    "print(np.linalg.inv(var_mx3))"
   ]
  },
  {
   "cell_type": "markdown",
   "id": "e0cec5bd-322e-47ec-a5d4-915675cda59f",
   "metadata": {},
   "source": [
    "# power of matrix"
   ]
  },
  {
   "cell_type": "markdown",
   "id": "2dee8657-7612-4749-99c5-49d79f460d24",
   "metadata": {},
   "source": [
    "# Determinate"
   ]
  }
 ],
 "metadata": {
  "kernelspec": {
   "display_name": "Python 3 (ipykernel)",
   "language": "python",
   "name": "python3"
  },
  "language_info": {
   "codemirror_mode": {
    "name": "ipython",
    "version": 3
   },
   "file_extension": ".py",
   "mimetype": "text/x-python",
   "name": "python",
   "nbconvert_exporter": "python",
   "pygments_lexer": "ipython3",
   "version": "3.11.1"
  }
 },
 "nbformat": 4,
 "nbformat_minor": 5
}
