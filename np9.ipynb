{
 "cells": [
  {
   "cell_type": "markdown",
   "id": "8c4c2541-48b6-4a3a-8656-a27e266bb9b9",
   "metadata": {},
   "source": [
    "# Search, Sort, Search Sorted, Filter functions"
   ]
  },
  {
   "cell_type": "markdown",
   "id": "da88c83a-f5e5-46cb-8736-4761f18fe27c",
   "metadata": {},
   "source": [
    "# Search"
   ]
  },
  {
   "cell_type": "code",
   "execution_count": 1,
   "id": "b65c6f4d-22f5-4715-820b-94258852481c",
   "metadata": {},
   "outputs": [
    {
     "name": "stdout",
     "output_type": "stream",
     "text": [
      "(array([1, 4, 6], dtype=int64),)\n"
     ]
    }
   ],
   "source": [
    "import numpy as np\n",
    "var = np.array([4,2,3,4,2,5,2,5,6,7])\n",
    "# index         0 1 2 3 4 5 6 7 8 9\n",
    "\n",
    "x = np.where( var ==2 )\n",
    "print(x)"
   ]
  },
  {
   "cell_type": "code",
   "execution_count": null,
   "id": "57e0e031-1836-405b-83cf-06e15ce78406",
   "metadata": {},
   "outputs": [],
   "source": [
    "# we can also do arithmatic operations like "
   ]
  },
  {
   "cell_type": "code",
   "execution_count": 2,
   "id": "c6079d5e-b5b6-4ead-8b6a-3d01451e6041",
   "metadata": {},
   "outputs": [
    {
     "name": "stdout",
     "output_type": "stream",
     "text": [
      "(array([0, 1, 3, 4, 6, 8], dtype=int64),)\n"
     ]
    }
   ],
   "source": [
    "var = np.array([4,2,3,4,2,5,2,5,6,7])\n",
    "# index         0 1 2 3 4 5 6 7 8 9\n",
    "\n",
    "x = np.where( (var%2) == 0 )\n",
    "print(x)"
   ]
  },
  {
   "cell_type": "markdown",
   "id": "1d7b49b4-81ef-47f7-9a50-340c6a86b5f5",
   "metadata": {},
   "source": [
    "# search sort"
   ]
  },
  {
   "cell_type": "code",
   "execution_count": 9,
   "id": "a03ced94-a26f-401f-b8e7-820f36f1a9e1",
   "metadata": {},
   "outputs": [
    {
     "name": "stdout",
     "output_type": "stream",
     "text": [
      "3\n"
     ]
    }
   ],
   "source": [
    "var1 = np.array([1,2,3,5,6,7,8,9,10])\n",
    "# index          0 1 2 3 4 5 6 7 8\n",
    "x1 = np.searchsorted( var1, 4 )\n",
    "print(x1)"
   ]
  },
  {
   "cell_type": "code",
   "execution_count": 6,
   "id": "d188c39c-19b0-4a63-a55c-b344653c0d54",
   "metadata": {},
   "outputs": [],
   "source": [
    "# if we are looking for a proper placement of a specific value according to our array"
   ]
  },
  {
   "cell_type": "code",
   "execution_count": 7,
   "id": "ad37b26b-d3cf-4a1e-a3bb-0f21196854cd",
   "metadata": {},
   "outputs": [],
   "source": [
    "# frorm right hand side"
   ]
  },
  {
   "cell_type": "code",
   "execution_count": 11,
   "id": "81db69de-44ba-4728-af21-666a217e18f0",
   "metadata": {},
   "outputs": [
    {
     "name": "stdout",
     "output_type": "stream",
     "text": [
      "3\n"
     ]
    }
   ],
   "source": [
    "x1 = np.searchsorted( var1, 4 ,side=\"right\")\n",
    "print(x1)"
   ]
  },
  {
   "cell_type": "code",
   "execution_count": 16,
   "id": "1882a255-112c-4f57-8f03-317a86c0c07c",
   "metadata": {},
   "outputs": [
    {
     "name": "stdout",
     "output_type": "stream",
     "text": [
      "[5 6 7 3]\n"
     ]
    }
   ],
   "source": [
    "var2 = np.array([1,2,3,5,6,10])\n",
    "# index          0 1 2 3 4 5\n",
    "\n",
    "x2 = np.searchsorted( var1,[7,8,9,4]) \n",
    "print(x2)"
   ]
  },
  {
   "cell_type": "markdown",
   "id": "2f4584c2-4974-45f2-9e2e-7f0af9ffe9d3",
   "metadata": {},
   "source": [
    "# Sort"
   ]
  },
  {
   "cell_type": "code",
   "execution_count": null,
   "id": "72f281e8-6d46-4430-b5f7-601d3d119faf",
   "metadata": {},
   "outputs": [],
   "source": [
    "# sort is used for arraging alphabet/numbers in asecnding/descending order"
   ]
  },
  {
   "cell_type": "code",
   "execution_count": 19,
   "id": "cef2504e-6f6f-4391-97ec-3a3c71b2156c",
   "metadata": {},
   "outputs": [],
   "source": [
    "var_1s = np.array([1,12,3,15,6,17,8,9,10])\n",
    "# index            0 1  2 3  4 5  6 7 8"
   ]
  },
  {
   "cell_type": "code",
   "execution_count": 20,
   "id": "6b584c1a-ea50-4caa-9c46-c6d9b1e6e172",
   "metadata": {},
   "outputs": [
    {
     "name": "stdout",
     "output_type": "stream",
     "text": [
      "[ 1  3  6  8  9 10 12 15 17]\n"
     ]
    }
   ],
   "source": [
    "print(np.sort(var_1s))"
   ]
  },
  {
   "cell_type": "code",
   "execution_count": 21,
   "id": "095fc402-fb3d-4e88-afe0-d7aa95f61419",
   "metadata": {},
   "outputs": [
    {
     "name": "stdout",
     "output_type": "stream",
     "text": [
      "['a' 'c' 'f' 'm']\n"
     ]
    }
   ],
   "source": [
    "var_2s = np.array([\"a\", \"f\", \"c\", \"m\"])\n",
    "print(np.sort(var_2s))"
   ]
  },
  {
   "cell_type": "code",
   "execution_count": 22,
   "id": "5e9c7da1-1668-4731-92e8-db1bd13cb4ad",
   "metadata": {},
   "outputs": [],
   "source": [
    "# for 2d array"
   ]
  },
  {
   "cell_type": "code",
   "execution_count": 23,
   "id": "c751f1c1-03fe-4f12-b4eb-5989de19a5db",
   "metadata": {},
   "outputs": [
    {
     "name": "stdout",
     "output_type": "stream",
     "text": [
      "[[ 1  3 12]\n",
      " [ 6 15 17]\n",
      " [ 8  9 10]]\n"
     ]
    }
   ],
   "source": [
    "var_1s = np.array([[1,12,3],[15,6,17],[8,9,10]])\n",
    "print(np.sort(var_1s))"
   ]
  },
  {
   "cell_type": "markdown",
   "id": "26e11cbe-bf31-44bd-98f8-bf225dc20cea",
   "metadata": {},
   "source": [
    "# Filter"
   ]
  },
  {
   "cell_type": "code",
   "execution_count": 27,
   "id": "5aba44e2-ccad-4e64-a6e0-19faf99642fa",
   "metadata": {},
   "outputs": [
    {
     "name": "stdout",
     "output_type": "stream",
     "text": [
      "[3 4 5]\n"
     ]
    }
   ],
   "source": [
    "import numpy as np\n",
    "\n",
    "# Create an array\n",
    "arr = np.array([1, 2, 3, 4, 5])\n",
    "\n",
    "# Define a condition\n",
    "condition = arr > 2\n",
    "\n",
    "# Use filter to get elements that satisfy the condition\n",
    "result = np.extract(condition, arr)\n",
    "\n",
    "print(result)\n"
   ]
  },
  {
   "cell_type": "code",
   "execution_count": 28,
   "id": "3daaef60-b584-416c-be4b-1fc5e5a5876e",
   "metadata": {},
   "outputs": [],
   "source": [
    "# NumPy provides a powerful function called numpy.filter which is used to construct an array from elements of a given array that satisfy a certain condition."
   ]
  },
  {
   "cell_type": "code",
   "execution_count": 29,
   "id": "9238d363-80ae-45cc-9aad-c9f3574ae9aa",
   "metadata": {},
   "outputs": [
    {
     "name": "stdout",
     "output_type": "stream",
     "text": [
      "<class 'numpy.ndarray'>\n"
     ]
    }
   ],
   "source": [
    "print(type(result))"
   ]
  },
  {
   "cell_type": "code",
   "execution_count": 30,
   "id": "b7b85a04-2a8c-4bd4-891c-40681b06feb1",
   "metadata": {},
   "outputs": [
    {
     "name": "stdout",
     "output_type": "stream",
     "text": [
      "['a' 'm']\n"
     ]
    }
   ],
   "source": [
    "var_2f = np.array([\"a\", \"f\", \"c\", \"m\"])\n",
    "f =[True, False, False, True]\n",
    "\n",
    "new_a = var_2f[f]\n",
    "print(new_a)"
   ]
  },
  {
   "cell_type": "markdown",
   "id": "04f9ad0b-d61f-4c87-b864-57a70b6f7f10",
   "metadata": {},
   "source": [
    "# Shuffle, Unique, Resize, Flatten, Ravel Functions"
   ]
  },
  {
   "cell_type": "markdown",
   "id": "b11e2992-9ed5-4b38-bc28-0f2fc6935244",
   "metadata": {},
   "source": [
    "# Shuffle"
   ]
  },
  {
   "cell_type": "code",
   "execution_count": 37,
   "id": "5ca9e26d-74d8-4708-82d6-c9392ad636f1",
   "metadata": {},
   "outputs": [
    {
     "name": "stdout",
     "output_type": "stream",
     "text": [
      "[1 2 3 4 5]\n",
      "\n",
      "[4 2 3 5 1]\n"
     ]
    }
   ],
   "source": [
    "import numpy as np\n",
    "var = np.array([1,2,3,4,5])\n",
    "print(var)\n",
    "print()\n",
    "# sf_var = np.random.shuffle(var)\n",
    "# it didn't work\n",
    "np.random.shuffle(var)\n",
    "print(var)"
   ]
  },
  {
   "cell_type": "markdown",
   "id": "b4f7f1ac-8b4e-4cd9-b635-64ce12949281",
   "metadata": {},
   "source": [
    "# Unique"
   ]
  },
  {
   "cell_type": "code",
   "execution_count": 39,
   "id": "12fef253-4fe7-4860-b979-77affd31c472",
   "metadata": {},
   "outputs": [
    {
     "name": "stdout",
     "output_type": "stream",
     "text": [
      "[1 2 3 4 5 6 7]\n"
     ]
    }
   ],
   "source": [
    "var_x = np.array([1,2,3,4,2,5,2,6,2,7])\n",
    "x = np.unique(var_x)\n",
    "print(x)"
   ]
  },
  {
   "cell_type": "code",
   "execution_count": 40,
   "id": "cc2cf842-701d-484e-adc4-e5121bb8c7a4",
   "metadata": {},
   "outputs": [],
   "source": [
    "# for printing data along with its index"
   ]
  },
  {
   "cell_type": "code",
   "execution_count": 42,
   "id": "2f1fa297-7870-49e9-842f-55a4b221b623",
   "metadata": {},
   "outputs": [
    {
     "name": "stdout",
     "output_type": "stream",
     "text": [
      "(array([1, 2, 3, 4, 5, 6, 7]), array([0, 1, 2, 3, 5, 7, 9], dtype=int64))\n"
     ]
    }
   ],
   "source": [
    "var_x = np.array([1,2,3,4,2,5,2,6,2,7])\n",
    "x = np.unique(var_x, return_index=True)\n",
    "print(x)"
   ]
  },
  {
   "cell_type": "code",
   "execution_count": 43,
   "id": "b650c190-b136-4c19-9020-17b589b14b48",
   "metadata": {},
   "outputs": [],
   "source": [
    "# for printing the count of repetation"
   ]
  },
  {
   "cell_type": "code",
   "execution_count": 45,
   "id": "7212c24c-9ef7-4a7b-b2b9-b04e9700f24d",
   "metadata": {},
   "outputs": [
    {
     "name": "stdout",
     "output_type": "stream",
     "text": [
      "(array([1, 2, 3, 4, 5, 6, 7]), array([1, 4, 1, 1, 1, 1, 1], dtype=int64))\n"
     ]
    }
   ],
   "source": [
    "var_x = np.array([1,2,3,4,2,5,2,6,2,7])\n",
    "x = np.unique(var_x, return_counts=True)\n",
    "print(x)"
   ]
  },
  {
   "cell_type": "markdown",
   "id": "65516e56-0e14-4070-8eb4-10f4bb7f2351",
   "metadata": {},
   "source": [
    "# Resize"
   ]
  },
  {
   "cell_type": "code",
   "execution_count": 48,
   "id": "6730bb65-3fc9-4252-a5e1-8bf63a0fbd90",
   "metadata": {},
   "outputs": [
    {
     "name": "stdout",
     "output_type": "stream",
     "text": [
      "[[1 2 3]\n",
      " [4 5 1]]\n"
     ]
    }
   ],
   "source": [
    "var_xx = np.array([1,2,3,4,5])\n",
    "y = np.resize(var_xx,(2,3))\n",
    "print(y)"
   ]
  },
  {
   "cell_type": "markdown",
   "id": "2c38d11c-b94a-4d26-92e1-63592f3a5fdc",
   "metadata": {},
   "source": [
    "# Flatten"
   ]
  },
  {
   "cell_type": "code",
   "execution_count": 49,
   "id": "4b2123c1-ecb0-4dc5-9fbe-43e2cbe131f8",
   "metadata": {},
   "outputs": [],
   "source": [
    "# used to convert a 2d --> 1d"
   ]
  },
  {
   "cell_type": "code",
   "execution_count": 51,
   "id": "ed0570f9-ae8b-4631-8a85-85b294ab3f26",
   "metadata": {},
   "outputs": [
    {
     "name": "stdout",
     "output_type": "stream",
     "text": [
      "[[1 2 3]\n",
      " [4 5 1]]\n",
      "\n",
      "[1 2 3 4 5 1]\n"
     ]
    }
   ],
   "source": [
    "var_xx = np.array([1,2,3,4,5])\n",
    "y = np.resize(var_xx,(2,3))\n",
    "print(y)\n",
    "\n",
    "print()\n",
    "print(y.flatten())"
   ]
  },
  {
   "cell_type": "code",
   "execution_count": 53,
   "id": "80d74731-91f6-4ebe-8d64-75e02089a89d",
   "metadata": {},
   "outputs": [],
   "source": [
    "# check the matrix element carefully"
   ]
  },
  {
   "cell_type": "code",
   "execution_count": 55,
   "id": "afbf8235-3aa0-4b2c-a306-9ba4055c0cab",
   "metadata": {},
   "outputs": [
    {
     "name": "stdout",
     "output_type": "stream",
     "text": [
      "[1 4 2 5 3 1]\n"
     ]
    }
   ],
   "source": [
    "print(y.flatten('F'))"
   ]
  },
  {
   "cell_type": "code",
   "execution_count": 56,
   "id": "752e1e88-acde-4e4a-bf2b-a753cddd89ff",
   "metadata": {},
   "outputs": [
    {
     "name": "stdout",
     "output_type": "stream",
     "text": [
      "[1 2 3 4 5 1]\n"
     ]
    }
   ],
   "source": [
    "print(y.flatten('C'))"
   ]
  },
  {
   "cell_type": "code",
   "execution_count": 57,
   "id": "440cbf23-fc4e-4d81-82e4-c0f357fe1dc2",
   "metadata": {},
   "outputs": [
    {
     "name": "stdout",
     "output_type": "stream",
     "text": [
      "[1 2 3 4 5 1]\n"
     ]
    }
   ],
   "source": [
    "print(y.flatten('A'))"
   ]
  },
  {
   "cell_type": "code",
   "execution_count": 59,
   "id": "17de7ffe-b93f-4de8-897e-3e429a669bb3",
   "metadata": {},
   "outputs": [
    {
     "name": "stdout",
     "output_type": "stream",
     "text": [
      "[1 2 3 4 5 1]\n"
     ]
    }
   ],
   "source": [
    "print(y.flatten('K'))"
   ]
  },
  {
   "cell_type": "code",
   "execution_count": null,
   "id": "76d2ab6a-9b56-41e9-881c-dab04ed5d5dd",
   "metadata": {},
   "outputs": [],
   "source": []
  }
 ],
 "metadata": {
  "kernelspec": {
   "display_name": "Python 3 (ipykernel)",
   "language": "python",
   "name": "python3"
  },
  "language_info": {
   "codemirror_mode": {
    "name": "ipython",
    "version": 3
   },
   "file_extension": ".py",
   "mimetype": "text/x-python",
   "name": "python",
   "nbconvert_exporter": "python",
   "pygments_lexer": "ipython3",
   "version": "3.11.1"
  }
 },
 "nbformat": 4,
 "nbformat_minor": 5
}
