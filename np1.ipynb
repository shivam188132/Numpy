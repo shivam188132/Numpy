{
 "cells": [
  {
   "cell_type": "code",
   "execution_count": 6,
   "id": "75a74149-29f7-47a5-bcd5-743d5a2038b6",
   "metadata": {},
   "outputs": [
    {
     "name": "stdout",
     "output_type": "stream",
     "text": [
      "[1 2 3 4]\n",
      "<class 'numpy.ndarray'>\n"
     ]
    }
   ],
   "source": [
    "import numpy as np\n",
    "x = np.array([1,2,3,4])\n",
    "print(x)\n",
    "print(type(x))"
   ]
  },
  {
   "cell_type": "code",
   "execution_count": 4,
   "id": "99cb5e37-2005-42e0-98b6-5da8db6b5f0e",
   "metadata": {},
   "outputs": [
    {
     "name": "stdout",
     "output_type": "stream",
     "text": [
      "[1, 2, 3, 4]\n",
      "<class 'list'>\n"
     ]
    }
   ],
   "source": [
    "y = [1,2,3,4]\n",
    "print(y)\n",
    "print(type(y))"
   ]
  },
  {
   "cell_type": "markdown",
   "id": "0ed760e4-0381-43b0-952f-01ddd30bd1b4",
   "metadata": {},
   "source": [
    "# for wide mathematical application we use numpy "
   ]
  },
  {
   "cell_type": "markdown",
   "id": "842a72ab-ddab-4cec-8597-67c87ab40db4",
   "metadata": {},
   "source": [
    "#  %time it gives time of excution for single programme"
   ]
  },
  {
   "cell_type": "markdown",
   "id": "7cab6a24-998b-4c7d-8c84-5a12bcad66b2",
   "metadata": {},
   "source": [
    "#  %%time it gives time of excution for entire programme"
   ]
  },
  {
   "cell_type": "code",
   "execution_count": 10,
   "id": "e1790437-73a7-46db-af19-56dbf4813b3a",
   "metadata": {},
   "outputs": [
    {
     "name": "stdout",
     "output_type": "stream",
     "text": [
      "483 ns ± 6.9 ns per loop (mean ± std. dev. of 7 runs, 1,000,000 loops each)\n"
     ]
    }
   ],
   "source": [
    "%timeit [j**4 for j in range(1,9)]"
   ]
  },
  {
   "cell_type": "code",
   "execution_count": 11,
   "id": "2bc9a024-0207-4395-9212-ad43e8c98bca",
   "metadata": {},
   "outputs": [
    {
     "name": "stdout",
     "output_type": "stream",
     "text": [
      "1.46 µs ± 45.9 ns per loop (mean ± std. dev. of 7 runs, 1,000,000 loops each)\n"
     ]
    }
   ],
   "source": [
    "import numpy as np\n",
    "%timeit np.arange(1,9)**4"
   ]
  },
  {
   "cell_type": "markdown",
   "id": "569c4d27-705a-45f3-bdeb-102a740cd2cd",
   "metadata": {},
   "source": [
    "# creating numpy arrays"
   ]
  },
  {
   "cell_type": "code",
   "execution_count": 12,
   "id": "a33fdd61-ff97-4207-b356-f194d8ef128e",
   "metadata": {},
   "outputs": [
    {
     "name": "stdout",
     "output_type": "stream",
     "text": [
      "[1 2 3]\n"
     ]
    }
   ],
   "source": [
    "import numpy as np\n",
    "a = np.array([1,2,3])\n",
    "print(a)"
   ]
  },
  {
   "cell_type": "code",
   "execution_count": 17,
   "id": "a25c6c17-f9df-4ad8-b768-b4df6a11ac10",
   "metadata": {},
   "outputs": [
    {
     "name": "stdin",
     "output_type": "stream",
     "text": [
      "enter:  1\n",
      "enter:  2\n",
      "enter:  3\n",
      "enter:  4\n",
      "enter:  5\n"
     ]
    },
    {
     "name": "stdout",
     "output_type": "stream",
     "text": [
      "[1 2 3 4 5]\n",
      "<class 'numpy.ndarray'>\n"
     ]
    }
   ],
   "source": [
    "l = []\n",
    "\n",
    "for i in range(5):\n",
    "    int_i = int(input(\"enter: \"))\n",
    "    l.append(int_i)\n",
    "m = np.array(l)\n",
    "print(np.array(l))\n",
    "# print(type(l))\n",
    "print(type(m))"
   ]
  },
  {
   "cell_type": "markdown",
   "id": "a9ccc0e7-2035-47c4-a7ed-8e9f0664c933",
   "metadata": {},
   "source": [
    "# types of arrays 1d,2d,3d, nd "
   ]
  },
  {
   "cell_type": "code",
   "execution_count": null,
   "id": "3e068c1c-999d-42c6-95b2-638621ca7d0d",
   "metadata": {},
   "outputs": [],
   "source": [
    "# ndim function for checking the dimension of array"
   ]
  },
  {
   "cell_type": "code",
   "execution_count": 18,
   "id": "8448ed36-dfc3-4de5-9a51-065ffee8e8a4",
   "metadata": {},
   "outputs": [
    {
     "name": "stdout",
     "output_type": "stream",
     "text": [
      "1\n"
     ]
    }
   ],
   "source": [
    "print(m.ndim)"
   ]
  },
  {
   "cell_type": "code",
   "execution_count": 19,
   "id": "df241589-fd1e-4dc9-8e6a-40e07f6d64e9",
   "metadata": {},
   "outputs": [
    {
     "name": "stdout",
     "output_type": "stream",
     "text": [
      "[[1 2 3 4]\n",
      " [1 2 3 4]]\n",
      "2\n"
     ]
    }
   ],
   "source": [
    "ar2 = np.array([[1,2,3,4],[1,2,3,4]])\n",
    "print(ar2)\n",
    "print(ar2.ndim)"
   ]
  },
  {
   "cell_type": "code",
   "execution_count": null,
   "id": "d128da44-14b7-480d-908c-05a7e960cf55",
   "metadata": {},
   "outputs": [],
   "source": [
    "# for creating a 2d array it is important to have the same no. of element in the list in this case 4 elements were there"
   ]
  },
  {
   "cell_type": "code",
   "execution_count": 20,
   "id": "a1ca7fd7-8f51-48ca-81d3-51f64603db55",
   "metadata": {},
   "outputs": [
    {
     "name": "stdout",
     "output_type": "stream",
     "text": [
      "[[[1 2 3 4]\n",
      "  [1 2 3 4]\n",
      "  [6 7 8 9]]]\n",
      "3\n"
     ]
    }
   ],
   "source": [
    "ar3 = np.array([[[1,2,3,4],[1,2,3,4],[6,7,8,9]]])\n",
    "print(ar3)\n",
    "print(ar3.ndim)"
   ]
  },
  {
   "cell_type": "code",
   "execution_count": null,
   "id": "157d8806-68c3-4edf-bb45-520c75924249",
   "metadata": {},
   "outputs": [],
   "source": [
    "# let's create a 10 dimension array for this insted of creating 10 brackets we can use some other syntax"
   ]
  },
  {
   "cell_type": "code",
   "execution_count": 22,
   "id": "0423d722-749e-456c-b63b-42fd21a71102",
   "metadata": {},
   "outputs": [
    {
     "name": "stdout",
     "output_type": "stream",
     "text": [
      "[[[[[[[[[[1 2 3 4]]]]]]]]]]\n",
      "10\n"
     ]
    }
   ],
   "source": [
    "arn = np.array([1,2,3,4], ndmin=10 )\n",
    "print(arn)\n",
    "print(arn.ndim)"
   ]
  },
  {
   "cell_type": "code",
   "execution_count": null,
   "id": "79fdd331-f00a-4d93-9524-1b713fc434e9",
   "metadata": {},
   "outputs": [],
   "source": [
    "# create numpy array using numpy function"
   ]
  },
  {
   "cell_type": "code",
   "execution_count": null,
   "id": "7969dfa1-bd7a-4946-846c-6ea3d17bbcbb",
   "metadata": {},
   "outputs": [],
   "source": []
  }
 ],
 "metadata": {
  "kernelspec": {
   "display_name": "Python 3 (ipykernel)",
   "language": "python",
   "name": "python3"
  },
  "language_info": {
   "codemirror_mode": {
    "name": "ipython",
    "version": 3
   },
   "file_extension": ".py",
   "mimetype": "text/x-python",
   "name": "python",
   "nbconvert_exporter": "python",
   "pygments_lexer": "ipython3",
   "version": "3.11.1"
  }
 },
 "nbformat": 4,
 "nbformat_minor": 5
}
