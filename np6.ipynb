{
 "cells": [
  {
   "cell_type": "markdown",
   "id": "4776336a-eea0-4e30-8cd0-6d523c472510",
   "metadata": {},
   "source": [
    "# Arithmetic Fucnctions\n",
    "# np.min(x)\n",
    "# np.max(x)\n",
    "# etc."
   ]
  },
  {
   "cell_type": "code",
   "execution_count": 7,
   "id": "8687eb4b-537d-4ed9-b48f-6723d7d2bcbc",
   "metadata": {},
   "outputs": [
    {
     "name": "stdout",
     "output_type": "stream",
     "text": [
      "min:  1\n",
      "max:  6\n"
     ]
    }
   ],
   "source": [
    "import numpy as np\n",
    "\n",
    "var = np.array([1,2,3,4,5,6])\n",
    "print(\"min: \", np.min(var))\n",
    "print(\"max: \", np.max(var))"
   ]
  },
  {
   "cell_type": "code",
   "execution_count": 4,
   "id": "69ccc20a-5301-48c1-9c6f-1c04f0e42e82",
   "metadata": {},
   "outputs": [],
   "source": [
    "# np.argmin for getting posittion of element x"
   ]
  },
  {
   "cell_type": "code",
   "execution_count": 6,
   "id": "739450b4-2208-42da-8625-ec0970675347",
   "metadata": {},
   "outputs": [
    {
     "name": "stdout",
     "output_type": "stream",
     "text": [
      "min:  1 position:  0\n",
      "max:  6 position:  5\n"
     ]
    }
   ],
   "source": [
    "var = np.array([1,2,3,4,5,6])\n",
    "print(\"min: \", np.min(var), \"position: \" ,np.argmin(var))\n",
    "print(\"max: \", np.max(var), \"position: \" ,np.argmax(var))"
   ]
  },
  {
   "cell_type": "code",
   "execution_count": 8,
   "id": "2f65f4dd-a865-4dc7-86b5-c71e4a16aaa5",
   "metadata": {},
   "outputs": [],
   "source": [
    "# for 2d arrays we can work along axis"
   ]
  },
  {
   "cell_type": "code",
   "execution_count": null,
   "id": "0a072a4a-7b20-478d-b771-14dfedd7018d",
   "metadata": {},
   "outputs": [],
   "source": [
    "# concept of axis will be used for this\n",
    "# we have two type of axis 0 and 1 denoting columns, rows\n"
   ]
  },
  {
   "cell_type": "code",
   "execution_count": 11,
   "id": "a2e84ad9-71cc-4b01-9711-79df5d981b01",
   "metadata": {},
   "outputs": [
    {
     "name": "stdout",
     "output_type": "stream",
     "text": [
      "[[2 1 3]\n",
      " [9 5 6]]\n",
      "\n",
      "[1 5]\n"
     ]
    }
   ],
   "source": [
    "var1 = np.array([[2,1,3],[9,5,6]])\n",
    "print(var1)\n",
    "print()\n",
    "print(np.min(var1,axis=1))"
   ]
  },
  {
   "cell_type": "code",
   "execution_count": 12,
   "id": "e2fe3756-b4be-4ab1-9de1-df4d32cbbb68",
   "metadata": {},
   "outputs": [],
   "source": [
    "# so we have 1 as minimum value in row 1 and 5 as minimum in row 2"
   ]
  },
  {
   "cell_type": "code",
   "execution_count": 13,
   "id": "1c982fdb-05ed-4fca-bfd6-05090b732111",
   "metadata": {},
   "outputs": [],
   "source": [
    "# along column "
   ]
  },
  {
   "cell_type": "code",
   "execution_count": 14,
   "id": "1f58d82f-f927-47d2-b956-2f12f0bbcad1",
   "metadata": {},
   "outputs": [
    {
     "name": "stdout",
     "output_type": "stream",
     "text": [
      "[[2 1 3]\n",
      " [9 5 6]]\n",
      "\n",
      "[2 1 3]\n"
     ]
    }
   ],
   "source": [
    "var1 = np.array([[2,1,3],[9,5,6]])\n",
    "print(var1)\n",
    "print()\n",
    "print(np.min(var1,axis=0))"
   ]
  },
  {
   "cell_type": "code",
   "execution_count": 15,
   "id": "7c0a12de-ef18-4f67-86e0-788f21d0cf88",
   "metadata": {},
   "outputs": [],
   "source": [
    "# we get 2 as minimum value in column1 , 1 in col2, etc."
   ]
  },
  {
   "cell_type": "markdown",
   "id": "7bc4b251-7a90-45fd-aec7-303e57326955",
   "metadata": {},
   "source": [
    "# SQURT"
   ]
  },
  {
   "cell_type": "code",
   "execution_count": 16,
   "id": "1fa46281-6863-4fb1-b748-d63bbb1814df",
   "metadata": {},
   "outputs": [
    {
     "name": "stdout",
     "output_type": "stream",
     "text": [
      "SQURT:  [1.         1.41421356 1.73205081 2.         2.23606798 2.44948974]\n"
     ]
    }
   ],
   "source": [
    "var = np.array([1,2,3,4,5,6])\n",
    "# print(\"min: \", np.min(var), \"position: \" ,np.argmin(var))\n",
    "# print(\"max: \", np.max(var), \"position: \" ,np.argmax(var))\n",
    "print(\"SQURT: \", np.sqrt(var))"
   ]
  },
  {
   "cell_type": "markdown",
   "id": "67b24252-8ffc-45bf-8692-2c435c93b4b9",
   "metadata": {},
   "source": [
    "# np.sin(x)"
   ]
  },
  {
   "cell_type": "code",
   "execution_count": 18,
   "id": "8760918d-42a5-48ec-b45f-34417e90613d",
   "metadata": {},
   "outputs": [
    {
     "name": "stdout",
     "output_type": "stream",
     "text": [
      "[0.84147098 0.90929743 0.14112001]\n",
      "[ 0.54030231 -0.41614684 -0.9899925 ]\n"
     ]
    }
   ],
   "source": [
    "var_trigo = np.array([1,2,3])\n",
    "print(np.sin(var_trigo))\n",
    "print(np.cos(var_trigo))"
   ]
  },
  {
   "cell_type": "markdown",
   "id": "079aec7f-07df-4b93-bbc6-979081e377ab",
   "metadata": {},
   "source": [
    "# np.cumsum(x)"
   ]
  },
  {
   "cell_type": "code",
   "execution_count": 20,
   "id": "e9a5fb2e-f991-4e75-8a78-a9b67cffc25c",
   "metadata": {},
   "outputs": [
    {
     "name": "stdout",
     "output_type": "stream",
     "text": [
      "[1 3 6]\n"
     ]
    }
   ],
   "source": [
    "var_trigo = np.array([1,2,3])\n",
    "print(np.cumsum(var_trigo))"
   ]
  },
  {
   "cell_type": "code",
   "execution_count": null,
   "id": "a5a5f585-db2c-4861-acc7-cc1e488cae1e",
   "metadata": {},
   "outputs": [],
   "source": []
  }
 ],
 "metadata": {
  "kernelspec": {
   "display_name": "Python 3 (ipykernel)",
   "language": "python",
   "name": "python3"
  },
  "language_info": {
   "codemirror_mode": {
    "name": "ipython",
    "version": 3
   },
   "file_extension": ".py",
   "mimetype": "text/x-python",
   "name": "python",
   "nbconvert_exporter": "python",
   "pygments_lexer": "ipython3",
   "version": "3.11.1"
  }
 },
 "nbformat": 4,
 "nbformat_minor": 5
}
