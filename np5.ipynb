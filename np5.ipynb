{
 "cells": [
  {
   "cell_type": "markdown",
   "id": "0fad5e81-8269-4e6e-b167-5edf61eac43e",
   "metadata": {},
   "source": [
    "# Shape and reshape in Numpy Arrays"
   ]
  },
  {
   "cell_type": "code",
   "execution_count": 3,
   "id": "c14975a5-1251-45de-927d-04f764353f52",
   "metadata": {},
   "outputs": [
    {
     "name": "stdout",
     "output_type": "stream",
     "text": [
      "[[1 2 3 4]\n",
      " [1 2 3 4]]\n",
      "\n",
      "(2, 4)\n"
     ]
    }
   ],
   "source": [
    "import numpy as np\n",
    "var = np.array([[1,2,3,4],[1,2,3,4]])\n",
    "print(var)\n",
    "print()\n",
    "print(var.shape)"
   ]
  },
  {
   "cell_type": "code",
   "execution_count": 5,
   "id": "8a9f8510-a98c-408a-b27b-f645b7a4ccf8",
   "metadata": {},
   "outputs": [
    {
     "name": "stdout",
     "output_type": "stream",
     "text": [
      "[[[[1 2 3 4]]]]\n",
      "4\n",
      "\n",
      "(1, 1, 1, 4)\n"
     ]
    }
   ],
   "source": [
    "var1 = np.array([1,2,3,4], ndmin=4)\n",
    "\n",
    "print(var1)\n",
    "print(var1.ndim)\n",
    "print()\n",
    "print(var1.shape)\n"
   ]
  },
  {
   "cell_type": "code",
   "execution_count": 7,
   "id": "3a3e8972-3fde-45b4-939a-b74c43acb986",
   "metadata": {},
   "outputs": [],
   "source": [
    "# reshape 1d array to multi dimension or vice versa array using reshape function"
   ]
  },
  {
   "cell_type": "code",
   "execution_count": 10,
   "id": "6030a9d7-c549-42d5-9ecd-6cdf63ad32fd",
   "metadata": {},
   "outputs": [
    {
     "name": "stdout",
     "output_type": "stream",
     "text": [
      "[1 2 3 4 5 6]\n",
      "1\n",
      "\n",
      "[[1 2]\n",
      " [3 4]\n",
      " [5 6]]\n",
      "2\n"
     ]
    }
   ],
   "source": [
    "var2 = np.array([1,2,3,4,5,6])\n",
    "print(var2)\n",
    "print(var2.ndim)\n",
    "\n",
    "\n",
    "print()\n",
    "\n",
    "\n",
    "x = var2.reshape(3,2)\n",
    "print(x)\n",
    "print(x.ndim)"
   ]
  },
  {
   "cell_type": "code",
   "execution_count": 11,
   "id": "78aede7e-094a-4f20-b68f-cc66cdc01208",
   "metadata": {},
   "outputs": [],
   "source": [
    "# we hace to watch the number of element while reshaping"
   ]
  },
  {
   "cell_type": "code",
   "execution_count": 12,
   "id": "9840d023-c497-4feb-b5c2-21bd6aaeb92b",
   "metadata": {},
   "outputs": [],
   "source": [
    "# we have 6 elements and if we want to reshape like(3,3) meaning 3 rows and 3 columns then this will throw an error as the number of elements are \n",
    "# not sufficient for this "
   ]
  },
  {
   "cell_type": "code",
   "execution_count": 14,
   "id": "0c9b04f5-c2a8-4618-a30b-bf668800f28b",
   "metadata": {},
   "outputs": [
    {
     "name": "stdout",
     "output_type": "stream",
     "text": [
      "[ 1  2  3  4  5  6  7  8  9 10 11 12]\n",
      "1\n",
      "\n",
      "[[[ 1  2]\n",
      "  [ 3  4]\n",
      "  [ 5  6]]\n",
      "\n",
      " [[ 7  8]\n",
      "  [ 9 10]\n",
      "  [11 12]]]\n",
      "3\n"
     ]
    }
   ],
   "source": [
    "var3 = np.array([1,2,3,4,5,6,7,8,9,10,11,12])\n",
    "print(var3)\n",
    "print(var3.ndim)\n",
    "\n",
    "\n",
    "print()\n",
    "\n",
    "\n",
    "x1 = var3.reshape(2,3,2)\n",
    "print(x1)\n",
    "print(x1.ndim)"
   ]
  },
  {
   "cell_type": "code",
   "execution_count": 15,
   "id": "ac21c8a0-9e03-45d5-bdd4-2fa84e9090a0",
   "metadata": {},
   "outputs": [],
   "source": [
    "# how to move on from this 3d array back to 1d array"
   ]
  },
  {
   "cell_type": "code",
   "execution_count": 19,
   "id": "f065f981-4264-4ba8-81dd-bd5efd307024",
   "metadata": {},
   "outputs": [
    {
     "name": "stdout",
     "output_type": "stream",
     "text": [
      "[ 1  2  3  4  5  6  7  8  9 10 11 12]\n",
      "1\n"
     ]
    }
   ],
   "source": [
    "one = x1.reshape(-1)\n",
    "print(one)\n",
    "print(one.ndim)"
   ]
  },
  {
   "cell_type": "markdown",
   "id": "a970999b-e5e5-4363-b931-055ce84c0028",
   "metadata": {},
   "source": [
    "# arithematic operations in Numpy arrays"
   ]
  },
  {
   "cell_type": "code",
   "execution_count": 22,
   "id": "0df66320-9079-43a0-9444-94e46310863e",
   "metadata": {},
   "outputs": [
    {
     "name": "stdout",
     "output_type": "stream",
     "text": [
      "[1 2 3 4]\n",
      "\n",
      "[4 5 6 7]\n"
     ]
    }
   ],
   "source": [
    "import numpy as np\n",
    "var_1 = np.array([1,2,3,4])\n",
    "print(var_1)\n",
    "print()\n",
    "\n",
    "varadd = var_1 + 3\n",
    "print(varadd)"
   ]
  },
  {
   "cell_type": "code",
   "execution_count": 23,
   "id": "fa0cba95-ea62-478a-aa80-c238fcb1ce07",
   "metadata": {},
   "outputs": [],
   "source": [
    "# adding to arrays"
   ]
  },
  {
   "cell_type": "code",
   "execution_count": 24,
   "id": "e380cba2-f3ae-4c85-b9fe-53a641643531",
   "metadata": {},
   "outputs": [
    {
     "name": "stdout",
     "output_type": "stream",
     "text": [
      "[5 5 5 5]\n"
     ]
    }
   ],
   "source": [
    "var_11 = np.array([1,2,3,4])\n",
    "var_22 = np.array([4,3,2,1])\n",
    "var_add = var_11 + var_22\n",
    "print(var_add)"
   ]
  },
  {
   "cell_type": "code",
   "execution_count": 25,
   "id": "90698049-7a58-4533-bd39-4293096c17e4",
   "metadata": {},
   "outputs": [],
   "source": [
    "# subtraction"
   ]
  },
  {
   "cell_type": "code",
   "execution_count": 26,
   "id": "cea37dab-6dac-4953-ade2-ca02f61ca1d1",
   "metadata": {},
   "outputs": [
    {
     "name": "stdout",
     "output_type": "stream",
     "text": [
      "[-2 -1  0  1]\n"
     ]
    }
   ],
   "source": [
    "var_3 = np.array([1,2,3,4])\n",
    "var_sub = var_3 - 3\n",
    "print(var_sub)"
   ]
  },
  {
   "cell_type": "code",
   "execution_count": 27,
   "id": "0b68a4a3-8a1b-4d9d-8187-214adb1eda84",
   "metadata": {},
   "outputs": [],
   "source": [
    "# multiply"
   ]
  },
  {
   "cell_type": "code",
   "execution_count": 29,
   "id": "791307ce-a615-4a52-9e91-bfd90ed58298",
   "metadata": {},
   "outputs": [
    {
     "name": "stdout",
     "output_type": "stream",
     "text": [
      "[ 3  6  9 12]\n"
     ]
    }
   ],
   "source": [
    "var_4 = np.array([1,2,3,4])\n",
    "var_ml = var_4 * 3\n",
    "print(var_ml)"
   ]
  },
  {
   "cell_type": "code",
   "execution_count": 30,
   "id": "83016f26-0bcd-4717-8986-0e373a6cac39",
   "metadata": {},
   "outputs": [],
   "source": [
    "# divide"
   ]
  },
  {
   "cell_type": "code",
   "execution_count": 31,
   "id": "aa43f38c-87a0-4f9d-a0c3-13b4b51ad479",
   "metadata": {},
   "outputs": [
    {
     "name": "stdout",
     "output_type": "stream",
     "text": [
      "[0.33333333 0.66666667 1.         1.33333333]\n"
     ]
    }
   ],
   "source": [
    "var_5 = np.array([1,2,3,4])\n",
    "var_dvd = var_5 / 3\n",
    "print(var_dvd)"
   ]
  },
  {
   "cell_type": "code",
   "execution_count": 32,
   "id": "852b2b99-a448-4c7b-ab6c-6a4d5c9e09ad",
   "metadata": {},
   "outputs": [],
   "source": [
    "# modulas"
   ]
  },
  {
   "cell_type": "code",
   "execution_count": 35,
   "id": "6dce20f0-a279-421c-88bc-88d9086eccd9",
   "metadata": {},
   "outputs": [
    {
     "name": "stdout",
     "output_type": "stream",
     "text": [
      "[1 2 0 1]\n"
     ]
    }
   ],
   "source": [
    "var_6 = np.array([1,2,3,4])\n",
    "var_mod = var_6 % 3\n",
    "print(var_mod)"
   ]
  },
  {
   "cell_type": "code",
   "execution_count": 36,
   "id": "893dd5ae-479b-41dc-94c1-7d68dd2084a8",
   "metadata": {},
   "outputs": [],
   "source": [
    "# using functions"
   ]
  },
  {
   "cell_type": "code",
   "execution_count": 37,
   "id": "ffd6e612-5eb4-4206-9964-52a33353a7c6",
   "metadata": {},
   "outputs": [
    {
     "name": "stdout",
     "output_type": "stream",
     "text": [
      "[5 5 5 5]\n"
     ]
    }
   ],
   "source": [
    "var_11 = np.array([1,2,3,4])\n",
    "var_22 = np.array([4,3,2,1])\n",
    "\n",
    "var_add_fnc = np.add(var_11, var_22 )\n",
    "\n",
    "print(var_add_fnc)"
   ]
  },
  {
   "cell_type": "code",
   "execution_count": 39,
   "id": "27871413-230d-4bc7-82b1-be3b66a0e75a",
   "metadata": {},
   "outputs": [
    {
     "name": "stdout",
     "output_type": "stream",
     "text": [
      "[2 3 4 5]\n"
     ]
    }
   ],
   "source": [
    "var_11 = np.array([1,2,3,4])\n",
    "# var_22 = np.array([4,3,2,1])\n",
    "\n",
    "var_add_fnc = np.add(var_11, 1 )\n",
    "\n",
    "print(var_add_fnc)"
   ]
  },
  {
   "cell_type": "markdown",
   "id": "f3cbca4f-65e9-408e-880a-3c4329e415d5",
   "metadata": {},
   "source": [
    "# what for 2d array"
   ]
  },
  {
   "cell_type": "code",
   "execution_count": 43,
   "id": "5e7d058f-d81a-4dc0-824a-ac0686cd146f",
   "metadata": {},
   "outputs": [
    {
     "name": "stdout",
     "output_type": "stream",
     "text": [
      "[[1 2 3 4]\n",
      " [1 2 3 4]]\n",
      "\n",
      "[[1 2 3 4]\n",
      " [1 2 3 4]]\n",
      "\n",
      "[[2 4 6 8]\n",
      " [2 4 6 8]]\n"
     ]
    }
   ],
   "source": [
    "var_2d = np.array([[1,2,3,4],[1,2,3,4]])\n",
    "var_2d2 = np.array([[1,2,3,4],[1,2,3,4]])\n",
    "print(var_2d)\n",
    "print()\n",
    "print(var_2d2)\n",
    "print()\n",
    "\n",
    "varadd2 = var_2d + var_2d2\n",
    "print(varadd2)"
   ]
  },
  {
   "cell_type": "code",
   "execution_count": 44,
   "id": "72e9f09b-4cae-41fa-94b6-a7281b66a0e6",
   "metadata": {},
   "outputs": [],
   "source": [
    "# multiplication"
   ]
  },
  {
   "cell_type": "code",
   "execution_count": 46,
   "id": "ea4e31bf-c43b-4a12-a2a9-e0c72db17a84",
   "metadata": {},
   "outputs": [
    {
     "name": "stdout",
     "output_type": "stream",
     "text": [
      "[[1 2 3 4]\n",
      " [1 2 3 4]]\n",
      "\n",
      "[[1 2 3 4]\n",
      " [1 2 3 4]]\n",
      "\n",
      "[[ 1  4  9 16]\n",
      " [ 1  4  9 16]]\n"
     ]
    }
   ],
   "source": [
    "var_2d = np.array([[1,2,3,4],[1,2,3,4]])\n",
    "var_2d2 = np.array([[1,2,3,4],[1,2,3,4]])\n",
    "print(var_2d)\n",
    "print()\n",
    "print(var_2d2)\n",
    "print()\n",
    "\n",
    "varmd2 = var_2d * var_2d2\n",
    "print(varmd2)"
   ]
  },
  {
   "cell_type": "code",
   "execution_count": 47,
   "id": "6534bbd4-6d81-4361-80fc-af7852220e52",
   "metadata": {},
   "outputs": [],
   "source": [
    "# reciprocal"
   ]
  },
  {
   "cell_type": "code",
   "execution_count": 48,
   "id": "a66a1ba4-77f9-4bb5-9d7a-c1073b8fb566",
   "metadata": {},
   "outputs": [
    {
     "name": "stdout",
     "output_type": "stream",
     "text": [
      "[1 0 0 0]\n"
     ]
    }
   ],
   "source": [
    "rp_1d = np.array([1,2,3,4])\n",
    "reciprocal = np.reciprocal(rp_1d)\n",
    "print(reciprocal)"
   ]
  },
  {
   "cell_type": "code",
   "execution_count": null,
   "id": "09b4288d-b82a-454d-bedc-402c8cb07358",
   "metadata": {},
   "outputs": [],
   "source": []
  }
 ],
 "metadata": {
  "kernelspec": {
   "display_name": "Python 3 (ipykernel)",
   "language": "python",
   "name": "python3"
  },
  "language_info": {
   "codemirror_mode": {
    "name": "ipython",
    "version": 3
   },
   "file_extension": ".py",
   "mimetype": "text/x-python",
   "name": "python",
   "nbconvert_exporter": "python",
   "pygments_lexer": "ipython3",
   "version": "3.11.1"
  }
 },
 "nbformat": 4,
 "nbformat_minor": 5
}
