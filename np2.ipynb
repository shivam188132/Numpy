{
 "cells": [
  {
   "cell_type": "markdown",
   "id": "d9b3b003-0742-4aea-a116-16bc563e719a",
   "metadata": {},
   "source": [
    "<!-- zeroes -->"
   ]
  },
  {
   "cell_type": "markdown",
   "id": "426268c0-d158-4931-9e97-bc9e12a97f70",
   "metadata": {},
   "source": [
    "# topics\n",
    "# array filled with 0's\n",
    "# array filled with 1's \n",
    "# create an empty array \n",
    "# ana array with a range of elements\n",
    "# array diagonal element filled with 1's"
   ]
  },
  {
   "cell_type": "markdown",
   "id": "21a8b6be-c639-4011-b43e-e69e44e827ab",
   "metadata": {},
   "source": [
    "# array filled with 0's"
   ]
  },
  {
   "cell_type": "code",
   "execution_count": 3,
   "id": "8134f96c-c094-45be-a9a2-d2d4f5adaf09",
   "metadata": {},
   "outputs": [
    {
     "name": "stdout",
     "output_type": "stream",
     "text": [
      "[0. 0. 0. 0.]\n",
      "\n",
      "[[0. 0. 0. 0.]\n",
      " [0. 0. 0. 0.]\n",
      " [0. 0. 0. 0.]]\n"
     ]
    }
   ],
   "source": [
    "import numpy as np\n",
    "ar_zero = np.zeros(4)\n",
    "ar_zero1 = np.zeros((3,4))\n",
    "print(ar_zero)\n",
    "print()\n",
    "print(ar_zero1)"
   ]
  },
  {
   "cell_type": "markdown",
   "id": "eef58f9b-6e34-433b-9875-ffa98df4ab1c",
   "metadata": {},
   "source": [
    "# array filled with 1's "
   ]
  },
  {
   "cell_type": "code",
   "execution_count": 4,
   "id": "aff2b0a0-5091-49c2-9f8b-0eb1f9397405",
   "metadata": {},
   "outputs": [
    {
     "name": "stdout",
     "output_type": "stream",
     "text": [
      "[1. 1. 1. 1.]\n"
     ]
    }
   ],
   "source": [
    "ar_zero = np.ones(4)\n",
    "print(ar_zero)"
   ]
  },
  {
   "cell_type": "markdown",
   "id": "ad0ca757-1723-4423-b783-265cc90ddea3",
   "metadata": {},
   "source": [
    "# create an empty array "
   ]
  },
  {
   "cell_type": "code",
   "execution_count": 6,
   "id": "4b29aa95-59b6-4563-a29b-17c346694f5d",
   "metadata": {},
   "outputs": [
    {
     "name": "stdout",
     "output_type": "stream",
     "text": [
      "[1. 1. 1. 1.]\n"
     ]
    }
   ],
   "source": [
    "ar_emp = np.empty(4)\n",
    "print(ar_emp)"
   ]
  },
  {
   "cell_type": "markdown",
   "id": "dce5230d-4d4b-48cb-91ee-2a542c9cf115",
   "metadata": {},
   "source": [
    "# an array with a range of elements"
   ]
  },
  {
   "cell_type": "code",
   "execution_count": 8,
   "id": "2abbfee3-ebf9-4b9f-a9df-e64a09a13ace",
   "metadata": {},
   "outputs": [
    {
     "name": "stdout",
     "output_type": "stream",
     "text": [
      "[0 1 2 3]\n"
     ]
    }
   ],
   "source": [
    "ar_rn = np.arange(4)\n",
    "print(ar_rn)"
   ]
  },
  {
   "cell_type": "markdown",
   "id": "c7be78da-512e-4b98-98d5-2f10eda07acf",
   "metadata": {},
   "source": [
    "#  array diagonal element filled with 1's"
   ]
  },
  {
   "cell_type": "code",
   "execution_count": null,
   "id": "e968f5d1-fc0e-4114-a6cd-bc540c18a21d",
   "metadata": {},
   "outputs": [],
   "source": [
    "# Diagonal"
   ]
  },
  {
   "cell_type": "code",
   "execution_count": 9,
   "id": "c24c76f1-827d-4a6c-8812-36fe29bc44d3",
   "metadata": {},
   "outputs": [
    {
     "name": "stdout",
     "output_type": "stream",
     "text": [
      "[[1. 0. 0.]\n",
      " [0. 1. 0.]\n",
      " [0. 0. 1.]]\n"
     ]
    }
   ],
   "source": [
    "ar_dia = np.eye(3)\n",
    "print(ar_dia)"
   ]
  },
  {
   "cell_type": "code",
   "execution_count": 13,
   "id": "3cf93df4-3334-4347-ae28-cd5ff4885495",
   "metadata": {},
   "outputs": [
    {
     "name": "stdout",
     "output_type": "stream",
     "text": [
      "[[1. 0. 0. 0. 0.]\n",
      " [0. 1. 0. 0. 0.]\n",
      " [0. 0. 1. 0. 0.]]\n"
     ]
    }
   ],
   "source": [
    "ar_dia2 = np.eye(3,5)\n",
    "print(ar_dia)"
   ]
  },
  {
   "cell_type": "markdown",
   "id": "43a09a77-4212-4cd1-8f75-2d4633b0b799",
   "metadata": {},
   "source": [
    "# special interval array"
   ]
  },
  {
   "cell_type": "markdown",
   "id": "7dbe857c-5acf-4e9c-8dac-0aca33c2ddfd",
   "metadata": {},
   "source": [
    "<!-- we called this function as linspace  -->\n",
    "<!-- we will create a array where equally spaced no. in between 1 and 10 will occur and the number of such element is set to be num=5 -->"
   ]
  },
  {
   "cell_type": "code",
   "execution_count": 22,
   "id": "a3bcc196-6705-4793-b8f2-abb9b226d79b",
   "metadata": {},
   "outputs": [
    {
     "name": "stdout",
     "output_type": "stream",
     "text": [
      "[ 1.    3.25  5.5   7.75 10.  ]\n"
     ]
    }
   ],
   "source": [
    "ar_lin = np.linspace(1,10, num=5)\n",
    "print(ar_lin)"
   ]
  },
  {
   "cell_type": "code",
   "execution_count": null,
   "id": "84164d6f-d6a4-4aa7-a6ae-645c627044bf",
   "metadata": {},
   "outputs": [],
   "source": []
  }
 ],
 "metadata": {
  "kernelspec": {
   "display_name": "Python 3 (ipykernel)",
   "language": "python",
   "name": "python3"
  },
  "language_info": {
   "codemirror_mode": {
    "name": "ipython",
    "version": 3
   },
   "file_extension": ".py",
   "mimetype": "text/x-python",
   "name": "python",
   "nbconvert_exporter": "python",
   "pygments_lexer": "ipython3",
   "version": "3.11.1"
  }
 },
 "nbformat": 4,
 "nbformat_minor": 5
}
