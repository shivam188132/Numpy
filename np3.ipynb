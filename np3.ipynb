{
 "cells": [
  {
   "cell_type": "markdown",
   "id": "d3f69751-5f83-4ee3-9861-6ff3c2c8cad2",
   "metadata": {},
   "source": [
    "# create a numpy array with random number"
   ]
  },
  {
   "cell_type": "code",
   "execution_count": 2,
   "id": "20a0d80e-d4cd-4b69-b78f-3e6f3881261f",
   "metadata": {},
   "outputs": [],
   "source": [
    " # functions that can be used: rand(), randn(), ranf(), randint()"
   ]
  },
  {
   "cell_type": "code",
   "execution_count": 5,
   "id": "72915de9-9de4-4295-8642-43f2dccbfe64",
   "metadata": {},
   "outputs": [
    {
     "name": "stdout",
     "output_type": "stream",
     "text": [
      "[0.45752944 0.51149109 0.69038059 0.22127213]\n"
     ]
    }
   ],
   "source": [
    "import numpy as np\n",
    "var = np.random.rand(4)\n",
    "print(var)"
   ]
  },
  {
   "cell_type": "code",
   "execution_count": 6,
   "id": "7d64ac44-1df9-40f5-8ebd-b08c227076e2",
   "metadata": {},
   "outputs": [
    {
     "name": "stdout",
     "output_type": "stream",
     "text": [
      "[[0.20948872 0.61793168 0.06605829 0.12416735 0.40420148]\n",
      " [0.39884091 0.30074782 0.84754026 0.01273242 0.09402197]]\n"
     ]
    }
   ],
   "source": [
    "var1 = np.random.rand(2,5)\n",
    "print(var1)"
   ]
  },
  {
   "cell_type": "code",
   "execution_count": null,
   "id": "56c82f8f-fcfa-473a-96dd-5eacfbd18efc",
   "metadata": {},
   "outputs": [],
   "source": [
    "# randn() used for no close to zero can be positive or negative"
   ]
  },
  {
   "cell_type": "code",
   "execution_count": 9,
   "id": "15c3cb9d-bfa6-4c0d-8892-dffdbc98bbba",
   "metadata": {},
   "outputs": [
    {
     "name": "stdout",
     "output_type": "stream",
     "text": [
      "[-0.80735961 -2.90852228 -2.40574667  0.01916976]\n"
     ]
    }
   ],
   "source": [
    "var2 = np.random.randn(4)\n",
    "print(var2)"
   ]
  },
  {
   "cell_type": "code",
   "execution_count": 10,
   "id": "948f416f-afbe-41b0-a1cc-6fc2b8748e74",
   "metadata": {},
   "outputs": [],
   "source": [
    "# ranf() for getting no between 0 and 1 excluding 1"
   ]
  },
  {
   "cell_type": "code",
   "execution_count": 12,
   "id": "87ed8ac0-6c47-442b-9d45-c79b2e80e9b3",
   "metadata": {},
   "outputs": [
    {
     "name": "stdout",
     "output_type": "stream",
     "text": [
      "[0.15751654 0.52469222 0.57448239 0.40684607]\n"
     ]
    }
   ],
   "source": [
    "var3 = np.random.ranf(4)\n",
    "print(var3)"
   ]
  },
  {
   "cell_type": "code",
   "execution_count": 13,
   "id": "a48eecbc-46b3-4459-b51f-69a9b277bec7",
   "metadata": {},
   "outputs": [],
   "source": [
    "# randint()\n"
   ]
  },
  {
   "cell_type": "code",
   "execution_count": 16,
   "id": "7415b21d-726e-42de-bfc4-344fbec2d5f7",
   "metadata": {},
   "outputs": [
    {
     "name": "stdout",
     "output_type": "stream",
     "text": [
      "[ 7 18 10 14 11]\n"
     ]
    }
   ],
   "source": [
    "# var4 = np.random.randint(min,max,total)\n",
    "var4 = np.random.randint(5,20,5)\n",
    "print(var4)"
   ]
  },
  {
   "cell_type": "code",
   "execution_count": null,
   "id": "84c92d0e-348d-4508-a312-56641233f600",
   "metadata": {},
   "outputs": [],
   "source": []
  }
 ],
 "metadata": {
  "kernelspec": {
   "display_name": "Python 3 (ipykernel)",
   "language": "python",
   "name": "python3"
  },
  "language_info": {
   "codemirror_mode": {
    "name": "ipython",
    "version": 3
   },
   "file_extension": ".py",
   "mimetype": "text/x-python",
   "name": "python",
   "nbconvert_exporter": "python",
   "pygments_lexer": "ipython3",
   "version": "3.11.1"
  }
 },
 "nbformat": 4,
 "nbformat_minor": 5
}
