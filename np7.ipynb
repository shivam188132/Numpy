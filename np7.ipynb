{
 "cells": [
  {
   "cell_type": "markdown",
   "id": "a3826ecb-ff49-49df-bf15-2e57d470ed15",
   "metadata": {},
   "source": [
    "# Broadcasting Numpy arrays"
   ]
  },
  {
   "cell_type": "code",
   "execution_count": 1,
   "id": "9a11723c-ebb5-4a1d-88cd-4209b448824c",
   "metadata": {},
   "outputs": [],
   "source": [
    "# just simple matrix addition rules that you learn in class 12th"
   ]
  },
  {
   "cell_type": "code",
   "execution_count": 2,
   "id": "7ffd954e-f1f4-4c12-8c42-5afb5cc817db",
   "metadata": {},
   "outputs": [
    {
     "ename": "ValueError",
     "evalue": "operands could not be broadcast together with shapes (4,) (3,) ",
     "output_type": "error",
     "traceback": [
      "\u001b[1;31m---------------------------------------------------------------------------\u001b[0m",
      "\u001b[1;31mValueError\u001b[0m                                Traceback (most recent call last)",
      "Cell \u001b[1;32mIn[2], line 5\u001b[0m\n\u001b[0;32m      3\u001b[0m var1 \u001b[38;5;241m=\u001b[39m np\u001b[38;5;241m.\u001b[39marray([\u001b[38;5;241m1\u001b[39m,\u001b[38;5;241m2\u001b[39m,\u001b[38;5;241m3\u001b[39m,\u001b[38;5;241m4\u001b[39m])\n\u001b[0;32m      4\u001b[0m var2 \u001b[38;5;241m=\u001b[39m np\u001b[38;5;241m.\u001b[39marray([\u001b[38;5;241m1\u001b[39m,\u001b[38;5;241m2\u001b[39m,\u001b[38;5;241m3\u001b[39m])\n\u001b[1;32m----> 5\u001b[0m \u001b[38;5;28mprint\u001b[39m(\u001b[43mvar1\u001b[49m\u001b[43m \u001b[49m\u001b[38;5;241;43m+\u001b[39;49m\u001b[43m \u001b[49m\u001b[43mvar2\u001b[49m )\n",
      "\u001b[1;31mValueError\u001b[0m: operands could not be broadcast together with shapes (4,) (3,) "
     ]
    }
   ],
   "source": [
    "import numpy as np\n",
    "\n",
    "var1 = np.array([1,2,3,4])\n",
    "var2 = np.array([1,2,3])\n",
    "print(var1 + var2 )"
   ]
  },
  {
   "cell_type": "code",
   "execution_count": 3,
   "id": "1c5fc585-6151-4566-bd5c-7d0748cb3686",
   "metadata": {},
   "outputs": [
    {
     "name": "stdout",
     "output_type": "stream",
     "text": [
      "[2 4 6 8]\n"
     ]
    }
   ],
   "source": [
    "import numpy as np\n",
    "\n",
    "var1 = np.array([1,2,3,4])\n",
    "var2 = np.array([1,2,3,4])\n",
    "print(var1 + var2 )"
   ]
  },
  {
   "cell_type": "code",
   "execution_count": 4,
   "id": "1549ca88-c482-4943-82e6-19860918f001",
   "metadata": {},
   "outputs": [],
   "source": [
    "# comparing 1X3 or 3X1 matrics weather any operatinons are possible or not"
   ]
  },
  {
   "cell_type": "code",
   "execution_count": 11,
   "id": "d49b6797-6481-4c9f-bacf-9a597db84b50",
   "metadata": {},
   "outputs": [
    {
     "name": "stdout",
     "output_type": "stream",
     "text": [
      "[1 2 3]\n",
      "\n",
      "[[1]\n",
      " [2]\n",
      " [3]]\n"
     ]
    }
   ],
   "source": [
    "var11 = np.array([1,2,3])\n",
    "# print(var1.shape)\n",
    "print(var11)\n",
    "print()\n",
    "var22 = np.array([[1],[2],[3]])\n",
    "print(var22)\n",
    "# print(var2.shape)"
   ]
  },
  {
   "cell_type": "code",
   "execution_count": 12,
   "id": "3c26b42e-b395-4e81-a3a4-1474f832c94a",
   "metadata": {},
   "outputs": [
    {
     "name": "stdout",
     "output_type": "stream",
     "text": [
      "[[2 3 4]\n",
      " [3 4 5]\n",
      " [4 5 6]]\n"
     ]
    }
   ],
   "source": [
    "print(var11 + var22)"
   ]
  },
  {
   "cell_type": "code",
   "execution_count": 13,
   "id": "a59f39ef-2c5e-4228-ac16-3db009f53b83",
   "metadata": {},
   "outputs": [],
   "source": [
    "# what for a 2X1 and 2x3 matrix"
   ]
  },
  {
   "cell_type": "code",
   "execution_count": 16,
   "id": "eb840b96-13d7-4188-8c82-38c2a1c31fad",
   "metadata": {},
   "outputs": [
    {
     "name": "stdout",
     "output_type": "stream",
     "text": [
      "(2, 1)\n"
     ]
    }
   ],
   "source": [
    "var21 = np.array([[1],[2]])\n",
    "print(var21.shape)"
   ]
  },
  {
   "cell_type": "code",
   "execution_count": 17,
   "id": "61f9b5c6-9c53-4f82-b341-737528ddd206",
   "metadata": {},
   "outputs": [
    {
     "name": "stdout",
     "output_type": "stream",
     "text": [
      "(2, 3)\n"
     ]
    }
   ],
   "source": [
    "var23 = np.array([[1,2,3],[4,5,6]])\n",
    "print(var23.shape)"
   ]
  },
  {
   "cell_type": "code",
   "execution_count": 18,
   "id": "a0f04113-8060-4e12-808e-377b19156533",
   "metadata": {},
   "outputs": [
    {
     "name": "stdout",
     "output_type": "stream",
     "text": [
      "[[2 3 4]\n",
      " [6 7 8]]\n"
     ]
    }
   ],
   "source": [
    "print(var21 + var23)"
   ]
  },
  {
   "cell_type": "raw",
   "id": "fc75f06b-e6e0-4e9a-b653-3317da28f329",
   "metadata": {},
   "source": [
    "see if we want to perform some matrix operation like addition then we have to see first the \n",
    "order of matrix for example 2x1 and 2x3 then if we see something like 1 in any one of them \n",
    "then matrix operations are possible and then we have to compare which element have greater\n",
    "value (2,1) vs (2,3) going from right hand side and comparing {1 and 3} and then {2 and 2} we get\n",
    "(2,3) as our result and this is the order of the output matrix."
   ]
  },
  {
   "cell_type": "markdown",
   "id": "61f0b9f4-7caa-4918-ac7a-180ab8a204e7",
   "metadata": {},
   "source": [
    "# indexing and slicing in numpy arrays"
   ]
  },
  {
   "cell_type": "markdown",
   "id": "4b6c300c-7d09-4bb2-8ebf-2bb6e1c4777e",
   "metadata": {},
   "source": [
    "# indexing"
   ]
  },
  {
   "cell_type": "code",
   "execution_count": 21,
   "id": "50eb93e0-d1d2-4cc2-9d73-1895f2ba5317",
   "metadata": {},
   "outputs": [
    {
     "name": "stdout",
     "output_type": "stream",
     "text": [
      "12\n"
     ]
    }
   ],
   "source": [
    "ind = np.array([11, 12, 13,14])\n",
    "#               0,  1,  2, 3\n",
    "#              -4, -3, -2, -1\n",
    "\n",
    "print(ind[1])"
   ]
  },
  {
   "cell_type": "code",
   "execution_count": 22,
   "id": "2565d1eb-407e-4e5b-8fc3-6d218a9d8509",
   "metadata": {},
   "outputs": [],
   "source": [
    "# for 2d arrays"
   ]
  },
  {
   "cell_type": "code",
   "execution_count": 26,
   "id": "b8157e1c-634e-4a21-9ce7-19f7166b73bf",
   "metadata": {},
   "outputs": [
    {
     "name": "stdout",
     "output_type": "stream",
     "text": [
      "[[9 8 7]\n",
      " [4 5 6]]\n",
      "7\n"
     ]
    }
   ],
   "source": [
    "ind_2d = np.array([[9,8,7],[4,5,6]])\n",
    "print(ind_2d)\n",
    "\n",
    "\n",
    "# print(ind_2d.ndim)\n",
    "print(ind_2d[0,2])"
   ]
  },
  {
   "cell_type": "code",
   "execution_count": 27,
   "id": "638c4f3c-2a47-4132-8e7a-90ffcc3d0544",
   "metadata": {},
   "outputs": [],
   "source": [
    "# for 3d arrays"
   ]
  },
  {
   "cell_type": "code",
   "execution_count": 30,
   "id": "8287bc07-d5f5-4368-9e6b-91c18480fee2",
   "metadata": {},
   "outputs": [
    {
     "name": "stdout",
     "output_type": "stream",
     "text": [
      "[[[1 2]\n",
      "  [6 7]]]\n",
      "3\n",
      "7\n"
     ]
    }
   ],
   "source": [
    "ind_3d = np.array([[[1,2],[6,7]]])\n",
    "print(ind_3d)\n",
    "print(ind_3d.ndim)\n",
    "print(ind_3d[0,1,1])"
   ]
  },
  {
   "cell_type": "markdown",
   "id": "d400a526-7b94-43de-966c-5078bbccb774",
   "metadata": {},
   "source": [
    "# slicing Numpy Arrays"
   ]
  },
  {
   "cell_type": "code",
   "execution_count": 32,
   "id": "ce6da22a-852e-4ff6-b45a-20d98961f3b8",
   "metadata": {},
   "outputs": [],
   "source": [
    "# variable[start:stop:step]"
   ]
  },
  {
   "cell_type": "code",
   "execution_count": 38,
   "id": "e4b6df4b-3ab6-44e7-9cea-b7f6758acddc",
   "metadata": {},
   "outputs": [
    {
     "name": "stdout",
     "output_type": "stream",
     "text": [
      "2 to 5:   [13 14 15]\n"
     ]
    }
   ],
   "source": [
    "slice = np.array([11, 12, 13,14,15,16,17,18,19,20])\n",
    "print(\"2 to 5:  \", slice[2:5])"
   ]
  },
  {
   "cell_type": "code",
   "execution_count": 39,
   "id": "7f794182-93d9-4cde-9496-3ca8489562b8",
   "metadata": {},
   "outputs": [
    {
     "name": "stdout",
     "output_type": "stream",
     "text": [
      "2 to end:   [13 14 15 16 17 18 19 20]\n"
     ]
    }
   ],
   "source": [
    "print(\"2 to end:  \", slice[2:])"
   ]
  },
  {
   "cell_type": "code",
   "execution_count": 40,
   "id": "2791ea9c-52f3-4fb6-9466-e9aa798c66b7",
   "metadata": {},
   "outputs": [
    {
     "name": "stdout",
     "output_type": "stream",
     "text": [
      "start to end with a jump:   [11 13 15 17 19]\n"
     ]
    }
   ],
   "source": [
    "print(\"start to end with a jump:  \", slice[::2])"
   ]
  },
  {
   "cell_type": "code",
   "execution_count": 41,
   "id": "e1b580b8-4037-4dca-9985-576033714dc5",
   "metadata": {},
   "outputs": [],
   "source": [
    "# for 2d arrays"
   ]
  },
  {
   "cell_type": "code",
   "execution_count": 42,
   "id": "58cfd3fc-94a4-4f67-8e82-5e64528421c7",
   "metadata": {},
   "outputs": [
    {
     "name": "stdout",
     "output_type": "stream",
     "text": [
      "[[ 1  2  3  4  5]\n",
      " [ 9  8  7  6  5]\n",
      " [11 12 13 14 15]]\n"
     ]
    }
   ],
   "source": [
    "slice_2d = np.array([[1,2,3,4,5],[9,8,7,6,5],[11,12,13,14,15]])\n",
    "print(slice_2d)\n"
   ]
  },
  {
   "cell_type": "code",
   "execution_count": 43,
   "id": "823cb6a9-fd8b-42f5-805b-f2c8ba73d986",
   "metadata": {},
   "outputs": [
    {
     "name": "stdout",
     "output_type": "stream",
     "text": [
      "8 to 5:  [8 7 6 5]\n"
     ]
    }
   ],
   "source": [
    "print( \"8 to 5: \", slice_2d[1,1:])"
   ]
  },
  {
   "cell_type": "code",
   "execution_count": 44,
   "id": "76ac697c-431a-4912-bb0f-3a703c1c8a43",
   "metadata": {},
   "outputs": [],
   "source": [
    "# for 3d array's"
   ]
  },
  {
   "cell_type": "code",
   "execution_count": 45,
   "id": "f3392bac-714f-4c85-9b73-53ad721d2611",
   "metadata": {},
   "outputs": [
    {
     "name": "stdout",
     "output_type": "stream",
     "text": [
      "[[[ 1  2  3  4  5]\n",
      "  [ 9  8  7  6  5]\n",
      "  [11 12 13 14 15]]]\n"
     ]
    }
   ],
   "source": [
    "slice_3d = np.array([[[1,2,3,4,5],[9,8,7,6,5],[11,12,13,14,15]]])\n",
    "print(slice_3d)"
   ]
  },
  {
   "cell_type": "code",
   "execution_count": 46,
   "id": "b7f94e80-0784-4c6f-b467-939fb5fd0eaf",
   "metadata": {},
   "outputs": [
    {
     "name": "stdout",
     "output_type": "stream",
     "text": [
      "3\n"
     ]
    }
   ],
   "source": [
    "print(slice_3d.ndim)\n"
   ]
  },
  {
   "cell_type": "code",
   "execution_count": 51,
   "id": "5cb7d5cc-5cf0-4a89-9642-ad7873697506",
   "metadata": {},
   "outputs": [
    {
     "name": "stdout",
     "output_type": "stream",
     "text": [
      "12 to 15:  [12 13 14 15]\n"
     ]
    }
   ],
   "source": [
    "print( \"12 to 15: \", slice_3d[0,2,1:])"
   ]
  },
  {
   "cell_type": "code",
   "execution_count": 57,
   "id": "bde284be-1d45-45cf-885e-4b351dcd5fff",
   "metadata": {},
   "outputs": [
    {
     "name": "stdout",
     "output_type": "stream",
     "text": [
      "[[[ 1  2  3  4  5]\n",
      "  [ 9  8  7  6  5]]\n",
      "\n",
      " [[11 12 13 14 15]\n",
      "  [16 17 18 19 20]]\n",
      "\n",
      " [[20 21 22 23 24]\n",
      "  [25 26 27 28 29]]]\n"
     ]
    }
   ],
   "source": [
    "import numpy as np\n",
    "\n",
    "slice_3d = np.array([[[1, 2, 3, 4, 5], [9, 8, 7, 6, 5]], [[11, 12, 13, 14, 15], [16, 17, 18, 19, 20]]\n",
    "                    ,[[20, 21, 22, 23, 24],[25, 26, 27, 28, 29]]])\n",
    "print(slice_3d)\n"
   ]
  },
  {
   "cell_type": "code",
   "execution_count": 58,
   "id": "53857794-53a8-4ada-9c6b-1e2a2a347eac",
   "metadata": {},
   "outputs": [],
   "source": [
    "# how to print 17 to 20?"
   ]
  },
  {
   "cell_type": "code",
   "execution_count": 60,
   "id": "f61d3981-afae-424c-a760-d8a05a7707c0",
   "metadata": {},
   "outputs": [
    {
     "name": "stdout",
     "output_type": "stream",
     "text": [
      "17 to 20:  [17 18 19 20]\n"
     ]
    }
   ],
   "source": [
    "print(\"17 to 20: \", slice_3d[1,1,1:])"
   ]
  },
  {
   "cell_type": "code",
   "execution_count": null,
   "id": "d0921747-43a3-48d9-b496-981357fb36a1",
   "metadata": {},
   "outputs": [],
   "source": []
  }
 ],
 "metadata": {
  "kernelspec": {
   "display_name": "Python 3 (ipykernel)",
   "language": "python",
   "name": "python3"
  },
  "language_info": {
   "codemirror_mode": {
    "name": "ipython",
    "version": 3
   },
   "file_extension": ".py",
   "mimetype": "text/x-python",
   "name": "python",
   "nbconvert_exporter": "python",
   "pygments_lexer": "ipython3",
   "version": "3.11.1"
  }
 },
 "nbformat": 4,
 "nbformat_minor": 5
}
